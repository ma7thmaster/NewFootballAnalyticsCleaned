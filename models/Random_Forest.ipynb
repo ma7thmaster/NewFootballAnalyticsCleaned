{
 "cells": [
  {
   "cell_type": "code",
   "execution_count": 5,
   "metadata": {},
   "outputs": [],
   "source": [
    "import pandas as pd\n",
    "import numpy as np\n",
    "from sklearn.preprocessing import OneHotEncoder\n",
    "from sklearn.compose import ColumnTransformer\n",
    "from sklearn.model_selection import train_test_split\n",
    "from sklearn.ensemble import RandomForestClassifier\n",
    "from sklearn.pipeline import make_pipeline\n",
    "from sklearn.model_selection import GridSearchCV\n",
    "from sklearn.ensemble import ExtraTreesClassifier"
   ]
  },
  {
   "cell_type": "code",
   "execution_count": 4,
   "metadata": {},
   "outputs": [],
   "source": [
    "laligadf = pd.read_pickle('laligadfmod')\n",
    "y=laligadf['outcome']\n",
    "X=laligadf.loc[:, laligadf.columns!='outcome']\n",
    "X_train, X_test, y_train, y_test = train_test_split(X, y, random_state=123, test_size=0.5, \n",
    "                                                    shuffle=True, stratify=y)"
   ]
  },
  {
   "cell_type": "code",
   "execution_count": 8,
   "metadata": {},
   "outputs": [
    {
     "name": "stdout",
     "output_type": "stream",
     "text": [
      "Best Accuracy: 92.13%\n",
      "Best Params: {'criterion': 'entropy'}\n",
      "Test Accuracy: 92.58%\n",
      "True\n"
     ]
    }
   ],
   "source": [
    "forest = RandomForestClassifier(class_weight='balanced')\n",
    "param_grid = [{'max_depth': range(1,10)},\n",
    "                {'criterion': ['entropy','gini']}]\n",
    "gs = GridSearchCV(\n",
    "    estimator=forest,\n",
    "    param_grid=param_grid,\n",
    "    cv=10,\n",
    "    scoring='accuracy'\n",
    ")\n",
    "gs.fit(X_train,y_train)\n",
    "print('Best Accuracy: %.2f%%' % (gs.best_score_*100))\n",
    "print('Best Params: %s' % gs.best_params_)\n",
    "print('Test Accuracy: %.2f%%' % (gs.best_estimator_.score(X_test,y_test)*100))\n",
    "ratio = 1-0.13358524116470327\n",
    "print(gs.best_estimator_.score(X_test,y_test)>ratio)"
   ]
  },
  {
   "cell_type": "code",
   "execution_count": 9,
   "metadata": {},
   "outputs": [
    {
     "name": "stdout",
     "output_type": "stream",
     "text": [
      "Best Accuracy: 92.00%\n",
      "Best Params: {'criterion': 'entropy'}\n",
      "Test Accuracy: 92.22%\n",
      "True\n"
     ]
    }
   ],
   "source": [
    "XForest = ExtraTreesClassifier(class_weight='balanced')\n",
    "param_grid = [{'max_depth': range(1,10)},\n",
    "                {'criterion': ['entropy','gini']}]\n",
    "gs = GridSearchCV(\n",
    "    estimator=forest,\n",
    "    param_grid=param_grid,\n",
    "    cv=10,\n",
    "    scoring='accuracy'\n",
    ")\n",
    "gs.fit(X_train,y_train)\n",
    "print('Best Accuracy: %.2f%%' % (gs.best_score_*100))\n",
    "print('Best Params: %s' % gs.best_params_)\n",
    "print('Test Accuracy: %.2f%%' % (gs.best_estimator_.score(X_test,y_test)*100))\n",
    "ratio = 1-0.13358524116470327\n",
    "print(gs.best_estimator_.score(X_test,y_test)>ratio)"
   ]
  }
 ],
 "metadata": {
  "interpreter": {
   "hash": "90e98ce8c2ba6bd25230aef0f4a7feaee408d998691e1b6fbf4fe750f0058d19"
  },
  "kernelspec": {
   "display_name": "Python 3.8.12 64-bit ('base': conda)",
   "language": "python",
   "name": "python3"
  },
  "language_info": {
   "codemirror_mode": {
    "name": "ipython",
    "version": 3
   },
   "file_extension": ".py",
   "mimetype": "text/x-python",
   "name": "python",
   "nbconvert_exporter": "python",
   "pygments_lexer": "ipython3",
   "version": "3.8.12"
  },
  "orig_nbformat": 4
 },
 "nbformat": 4,
 "nbformat_minor": 2
}
