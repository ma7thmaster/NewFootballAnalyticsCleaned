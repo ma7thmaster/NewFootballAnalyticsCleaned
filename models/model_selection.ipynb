{
 "cells": [
  {
   "cell_type": "code",
   "execution_count": 8,
   "metadata": {},
   "outputs": [],
   "source": [
    "import pandas as pd\n",
    "from sklearn.model_selection import train_test_split\n",
    "from sklearn.ensemble import GradientBoostingClassifier\n",
    "from sklearn.ensemble import HistGradientBoostingClassifier\n",
    "from sklearn.model_selection import GridSearchCV\n",
    "from sklearn.ensemble import RandomForestClassifier\n",
    "from sklearn.ensemble import ExtraTreesClassifier\n",
    "import matplotlib.pyplot as plt\n",
    "from sklearn.model_selection import StratifiedKFold\n",
    "from sklearn.pipeline import make_pipeline\n",
    "from sklearn.model_selection import cross_val_score\n",
    "from sklearn.metrics import accuracy_score\n",
    "from mlxtend.evaluate import cochrans_q\n",
    "from sklearn.metrics import accuracy_score\n"
   ]
  },
  {
   "cell_type": "code",
   "execution_count": 6,
   "metadata": {},
   "outputs": [
    {
     "data": {
      "text/html": [
       "<div>\n",
       "<style scoped>\n",
       "    .dataframe tbody tr th:only-of-type {\n",
       "        vertical-align: middle;\n",
       "    }\n",
       "\n",
       "    .dataframe tbody tr th {\n",
       "        vertical-align: top;\n",
       "    }\n",
       "\n",
       "    .dataframe thead th {\n",
       "        text-align: right;\n",
       "    }\n",
       "</style>\n",
       "<table border=\"1\" class=\"dataframe\">\n",
       "  <thead>\n",
       "    <tr style=\"text-align: right;\">\n",
       "      <th></th>\n",
       "      <th>x</th>\n",
       "      <th>y</th>\n",
       "      <th>end_x</th>\n",
       "      <th>end_y</th>\n",
       "      <th>aerial_won</th>\n",
       "      <th>follows_dribble</th>\n",
       "      <th>first_time</th>\n",
       "      <th>open_goal</th>\n",
       "      <th>deflected</th>\n",
       "      <th>xg</th>\n",
       "      <th>...</th>\n",
       "      <th>type_Free Kick</th>\n",
       "      <th>type_Open Play</th>\n",
       "      <th>type_Penalty</th>\n",
       "      <th>technique_Backheel</th>\n",
       "      <th>technique_Diving Header</th>\n",
       "      <th>technique_Half Volley</th>\n",
       "      <th>technique_Lob</th>\n",
       "      <th>technique_Normal</th>\n",
       "      <th>technique_Overhead Kick</th>\n",
       "      <th>technique_Volley</th>\n",
       "    </tr>\n",
       "  </thead>\n",
       "  <tbody>\n",
       "    <tr>\n",
       "      <th>0</th>\n",
       "      <td>100.0</td>\n",
       "      <td>19.0</td>\n",
       "      <td>120.0</td>\n",
       "      <td>35.1</td>\n",
       "      <td>0</td>\n",
       "      <td>0</td>\n",
       "      <td>0</td>\n",
       "      <td>0</td>\n",
       "      <td>0</td>\n",
       "      <td>0.023989</td>\n",
       "      <td>...</td>\n",
       "      <td>0</td>\n",
       "      <td>1</td>\n",
       "      <td>0</td>\n",
       "      <td>0</td>\n",
       "      <td>0</td>\n",
       "      <td>0</td>\n",
       "      <td>0</td>\n",
       "      <td>1</td>\n",
       "      <td>0</td>\n",
       "      <td>0</td>\n",
       "    </tr>\n",
       "    <tr>\n",
       "      <th>1</th>\n",
       "      <td>107.1</td>\n",
       "      <td>38.1</td>\n",
       "      <td>119.7</td>\n",
       "      <td>28.4</td>\n",
       "      <td>0</td>\n",
       "      <td>0</td>\n",
       "      <td>0</td>\n",
       "      <td>0</td>\n",
       "      <td>0</td>\n",
       "      <td>0.041484</td>\n",
       "      <td>...</td>\n",
       "      <td>0</td>\n",
       "      <td>1</td>\n",
       "      <td>0</td>\n",
       "      <td>0</td>\n",
       "      <td>0</td>\n",
       "      <td>0</td>\n",
       "      <td>0</td>\n",
       "      <td>1</td>\n",
       "      <td>0</td>\n",
       "      <td>0</td>\n",
       "    </tr>\n",
       "    <tr>\n",
       "      <th>2</th>\n",
       "      <td>98.1</td>\n",
       "      <td>38.5</td>\n",
       "      <td>120.0</td>\n",
       "      <td>42.8</td>\n",
       "      <td>0</td>\n",
       "      <td>0</td>\n",
       "      <td>0</td>\n",
       "      <td>0</td>\n",
       "      <td>0</td>\n",
       "      <td>0.081991</td>\n",
       "      <td>...</td>\n",
       "      <td>0</td>\n",
       "      <td>1</td>\n",
       "      <td>0</td>\n",
       "      <td>0</td>\n",
       "      <td>0</td>\n",
       "      <td>1</td>\n",
       "      <td>0</td>\n",
       "      <td>0</td>\n",
       "      <td>0</td>\n",
       "      <td>0</td>\n",
       "    </tr>\n",
       "    <tr>\n",
       "      <th>3</th>\n",
       "      <td>95.8</td>\n",
       "      <td>42.0</td>\n",
       "      <td>120.0</td>\n",
       "      <td>35.9</td>\n",
       "      <td>0</td>\n",
       "      <td>0</td>\n",
       "      <td>0</td>\n",
       "      <td>0</td>\n",
       "      <td>0</td>\n",
       "      <td>0.048502</td>\n",
       "      <td>...</td>\n",
       "      <td>0</td>\n",
       "      <td>1</td>\n",
       "      <td>0</td>\n",
       "      <td>0</td>\n",
       "      <td>0</td>\n",
       "      <td>0</td>\n",
       "      <td>0</td>\n",
       "      <td>1</td>\n",
       "      <td>0</td>\n",
       "      <td>0</td>\n",
       "    </tr>\n",
       "    <tr>\n",
       "      <th>4</th>\n",
       "      <td>100.4</td>\n",
       "      <td>41.6</td>\n",
       "      <td>118.1</td>\n",
       "      <td>39.1</td>\n",
       "      <td>0</td>\n",
       "      <td>0</td>\n",
       "      <td>1</td>\n",
       "      <td>0</td>\n",
       "      <td>0</td>\n",
       "      <td>0.115020</td>\n",
       "      <td>...</td>\n",
       "      <td>0</td>\n",
       "      <td>1</td>\n",
       "      <td>0</td>\n",
       "      <td>0</td>\n",
       "      <td>0</td>\n",
       "      <td>0</td>\n",
       "      <td>0</td>\n",
       "      <td>1</td>\n",
       "      <td>0</td>\n",
       "      <td>0</td>\n",
       "    </tr>\n",
       "    <tr>\n",
       "      <th>...</th>\n",
       "      <td>...</td>\n",
       "      <td>...</td>\n",
       "      <td>...</td>\n",
       "      <td>...</td>\n",
       "      <td>...</td>\n",
       "      <td>...</td>\n",
       "      <td>...</td>\n",
       "      <td>...</td>\n",
       "      <td>...</td>\n",
       "      <td>...</td>\n",
       "      <td>...</td>\n",
       "      <td>...</td>\n",
       "      <td>...</td>\n",
       "      <td>...</td>\n",
       "      <td>...</td>\n",
       "      <td>...</td>\n",
       "      <td>...</td>\n",
       "      <td>...</td>\n",
       "      <td>...</td>\n",
       "      <td>...</td>\n",
       "      <td>...</td>\n",
       "    </tr>\n",
       "    <tr>\n",
       "      <th>4494</th>\n",
       "      <td>87.3</td>\n",
       "      <td>47.5</td>\n",
       "      <td>97.3</td>\n",
       "      <td>46.2</td>\n",
       "      <td>0</td>\n",
       "      <td>0</td>\n",
       "      <td>0</td>\n",
       "      <td>0</td>\n",
       "      <td>0</td>\n",
       "      <td>0.029102</td>\n",
       "      <td>...</td>\n",
       "      <td>1</td>\n",
       "      <td>0</td>\n",
       "      <td>0</td>\n",
       "      <td>0</td>\n",
       "      <td>0</td>\n",
       "      <td>0</td>\n",
       "      <td>0</td>\n",
       "      <td>1</td>\n",
       "      <td>0</td>\n",
       "      <td>0</td>\n",
       "    </tr>\n",
       "    <tr>\n",
       "      <th>4495</th>\n",
       "      <td>94.7</td>\n",
       "      <td>46.0</td>\n",
       "      <td>97.2</td>\n",
       "      <td>45.6</td>\n",
       "      <td>0</td>\n",
       "      <td>0</td>\n",
       "      <td>1</td>\n",
       "      <td>0</td>\n",
       "      <td>0</td>\n",
       "      <td>0.012863</td>\n",
       "      <td>...</td>\n",
       "      <td>0</td>\n",
       "      <td>1</td>\n",
       "      <td>0</td>\n",
       "      <td>0</td>\n",
       "      <td>0</td>\n",
       "      <td>1</td>\n",
       "      <td>0</td>\n",
       "      <td>0</td>\n",
       "      <td>0</td>\n",
       "      <td>0</td>\n",
       "    </tr>\n",
       "    <tr>\n",
       "      <th>4496</th>\n",
       "      <td>113.9</td>\n",
       "      <td>38.3</td>\n",
       "      <td>120.0</td>\n",
       "      <td>39.8</td>\n",
       "      <td>0</td>\n",
       "      <td>0</td>\n",
       "      <td>1</td>\n",
       "      <td>0</td>\n",
       "      <td>0</td>\n",
       "      <td>0.708856</td>\n",
       "      <td>...</td>\n",
       "      <td>0</td>\n",
       "      <td>1</td>\n",
       "      <td>0</td>\n",
       "      <td>0</td>\n",
       "      <td>0</td>\n",
       "      <td>0</td>\n",
       "      <td>0</td>\n",
       "      <td>1</td>\n",
       "      <td>0</td>\n",
       "      <td>0</td>\n",
       "    </tr>\n",
       "    <tr>\n",
       "      <th>4497</th>\n",
       "      <td>88.6</td>\n",
       "      <td>36.1</td>\n",
       "      <td>120.0</td>\n",
       "      <td>47.9</td>\n",
       "      <td>0</td>\n",
       "      <td>0</td>\n",
       "      <td>0</td>\n",
       "      <td>0</td>\n",
       "      <td>0</td>\n",
       "      <td>0.030484</td>\n",
       "      <td>...</td>\n",
       "      <td>0</td>\n",
       "      <td>1</td>\n",
       "      <td>0</td>\n",
       "      <td>0</td>\n",
       "      <td>0</td>\n",
       "      <td>0</td>\n",
       "      <td>0</td>\n",
       "      <td>1</td>\n",
       "      <td>0</td>\n",
       "      <td>0</td>\n",
       "    </tr>\n",
       "    <tr>\n",
       "      <th>4498</th>\n",
       "      <td>89.1</td>\n",
       "      <td>56.6</td>\n",
       "      <td>120.0</td>\n",
       "      <td>44.1</td>\n",
       "      <td>0</td>\n",
       "      <td>0</td>\n",
       "      <td>0</td>\n",
       "      <td>0</td>\n",
       "      <td>0</td>\n",
       "      <td>0.020968</td>\n",
       "      <td>...</td>\n",
       "      <td>0</td>\n",
       "      <td>1</td>\n",
       "      <td>0</td>\n",
       "      <td>0</td>\n",
       "      <td>0</td>\n",
       "      <td>0</td>\n",
       "      <td>0</td>\n",
       "      <td>1</td>\n",
       "      <td>0</td>\n",
       "      <td>0</td>\n",
       "    </tr>\n",
       "  </tbody>\n",
       "</table>\n",
       "<p>4499 rows × 577 columns</p>\n",
       "</div>"
      ],
      "text/plain": [
       "          x     y  end_x  end_y  aerial_won  follows_dribble  first_time  \\\n",
       "0     100.0  19.0  120.0   35.1           0                0           0   \n",
       "1     107.1  38.1  119.7   28.4           0                0           0   \n",
       "2      98.1  38.5  120.0   42.8           0                0           0   \n",
       "3      95.8  42.0  120.0   35.9           0                0           0   \n",
       "4     100.4  41.6  118.1   39.1           0                0           1   \n",
       "...     ...   ...    ...    ...         ...              ...         ...   \n",
       "4494   87.3  47.5   97.3   46.2           0                0           0   \n",
       "4495   94.7  46.0   97.2   45.6           0                0           1   \n",
       "4496  113.9  38.3  120.0   39.8           0                0           1   \n",
       "4497   88.6  36.1  120.0   47.9           0                0           0   \n",
       "4498   89.1  56.6  120.0   44.1           0                0           0   \n",
       "\n",
       "      open_goal  deflected        xg  ...  type_Free Kick  type_Open Play  \\\n",
       "0             0          0  0.023989  ...               0               1   \n",
       "1             0          0  0.041484  ...               0               1   \n",
       "2             0          0  0.081991  ...               0               1   \n",
       "3             0          0  0.048502  ...               0               1   \n",
       "4             0          0  0.115020  ...               0               1   \n",
       "...         ...        ...       ...  ...             ...             ...   \n",
       "4494          0          0  0.029102  ...               1               0   \n",
       "4495          0          0  0.012863  ...               0               1   \n",
       "4496          0          0  0.708856  ...               0               1   \n",
       "4497          0          0  0.030484  ...               0               1   \n",
       "4498          0          0  0.020968  ...               0               1   \n",
       "\n",
       "      type_Penalty  technique_Backheel  technique_Diving Header  \\\n",
       "0                0                   0                        0   \n",
       "1                0                   0                        0   \n",
       "2                0                   0                        0   \n",
       "3                0                   0                        0   \n",
       "4                0                   0                        0   \n",
       "...            ...                 ...                      ...   \n",
       "4494             0                   0                        0   \n",
       "4495             0                   0                        0   \n",
       "4496             0                   0                        0   \n",
       "4497             0                   0                        0   \n",
       "4498             0                   0                        0   \n",
       "\n",
       "      technique_Half Volley  technique_Lob  technique_Normal  \\\n",
       "0                         0              0                 1   \n",
       "1                         0              0                 1   \n",
       "2                         1              0                 0   \n",
       "3                         0              0                 1   \n",
       "4                         0              0                 1   \n",
       "...                     ...            ...               ...   \n",
       "4494                      0              0                 1   \n",
       "4495                      1              0                 0   \n",
       "4496                      0              0                 1   \n",
       "4497                      0              0                 1   \n",
       "4498                      0              0                 1   \n",
       "\n",
       "      technique_Overhead Kick  technique_Volley  \n",
       "0                           0                 0  \n",
       "1                           0                 0  \n",
       "2                           0                 0  \n",
       "3                           0                 0  \n",
       "4                           0                 0  \n",
       "...                       ...               ...  \n",
       "4494                        0                 0  \n",
       "4495                        0                 0  \n",
       "4496                        0                 0  \n",
       "4497                        0                 0  \n",
       "4498                        0                 0  \n",
       "\n",
       "[4499 rows x 577 columns]"
      ]
     },
     "execution_count": 6,
     "metadata": {},
     "output_type": "execute_result"
    }
   ],
   "source": [
    "laligadf = pd.read_pickle('laligadfmod')\n",
    "laligadf = laligadf.drop('index',axis=1)\n",
    "#laligadf = laligadf.drop('xg',axis=1)\n",
    "y=laligadf['outcome']\n",
    "X=laligadf.loc[:, laligadf.columns!='outcome']\n",
    "X_train, X_test, y_train, y_test = train_test_split(X, y, random_state=123, test_size=0.5, \n",
    "                                                    shuffle=True, stratify=y)"
   ]
  },
  {
   "cell_type": "markdown",
   "metadata": {},
   "source": [
    "# Histogram based Gradient Boosting"
   ]
  },
  {
   "cell_type": "code",
   "execution_count": 9,
   "metadata": {},
   "outputs": [
    {
     "name": "stderr",
     "output_type": "stream",
     "text": [
      "/Users/matthewvoss/opt/anaconda3/lib/python3.8/site-packages/joblib/externals/loky/process_executor.py:702: UserWarning: A worker stopped while some jobs were given to the executor. This can be caused by a too short worker timeout or by a memory leak.\n",
      "  warnings.warn(\n"
     ]
    },
    {
     "name": "stdout",
     "output_type": "stream",
     "text": [
      "Best Accuracy: 94.22%\n",
      "Best Params: {'max_depth': 3, 'min_samples_leaf': 35}\n",
      "Test Accuracy: 93.91%\n"
     ]
    }
   ],
   "source": [
    "boost = HistGradientBoostingClassifier(learning_rate=0.1,random_state=42,verbose=0)\n",
    "param_grid = [{'max_depth': [1, 2, 3, 4, 5, 6, 7,8],\n",
    "               'min_samples_leaf': [33,34,35,36,37,38]}]\n",
    "hisgs = GridSearchCV(estimator=boost,\n",
    "                    n_jobs=2,\n",
    "                    param_grid=param_grid,\n",
    "                    scoring='accuracy',\n",
    "                    cv=10)\n",
    "hisgs.fit(X_train,y_train) \n",
    "print('Best Accuracy: %.2f%%' % (hisgs.best_score_*100))\n",
    "print('Best Params: %s' % hisgs.best_params_)\n",
    "print('Test Accuracy: %.2f%%' % (hisgs.best_estimator_.score(X_test,y_test)*100))  "
   ]
  },
  {
   "cell_type": "code",
   "execution_count": 10,
   "metadata": {},
   "outputs": [
    {
     "name": "stdout",
     "output_type": "stream",
     "text": [
      "0.9635393508225878\n",
      "0.9391111111111111\n"
     ]
    }
   ],
   "source": [
    "train_acc = accuracy_score(y_true=y_train, y_pred=hisgs.best_estimator_.predict(X_train))\n",
    "test_acc = accuracy_score(y_true=y_test, y_pred=hisgs.best_estimator_.predict(X_test))\n",
    "\n",
    "print(train_acc)\n",
    "print(test_acc)"
   ]
  },
  {
   "cell_type": "code",
   "execution_count": 12,
   "metadata": {},
   "outputs": [
    {
     "data": {
      "text/plain": [
       "<mpl_toolkits.mplot3d.art3d.Path3DCollection at 0x7fb6f8b0cc10>"
      ]
     },
     "execution_count": 12,
     "metadata": {},
     "output_type": "execute_result"
    },
    {
     "data": {
      "image/png": "[encoded data removed]",
      "text/plain": [
       "<Figure size 432x288 with 1 Axes>"
      ]
     },
     "metadata": {
      "needs_background": "light"
     },
     "output_type": "display_data"
    },
    {
     "data": {
      "image/png": "[encoded data removed]",
      "text/plain": [
       "<Figure size 432x288 with 1 Axes>"
      ]
     },
     "metadata": {
      "needs_background": "light"
     },
     "output_type": "display_data"
    }
   ],
   "source": [
    "\n",
    "import matplotlib.pyplot as plt\n",
    "import numpy as np\n",
    "m = 8\n",
    "n = 6\n",
    "X = np.reshape(hisgs.cv_results_['param_max_depth'].data,[n,m])\n",
    "Y = np.reshape(hisgs.cv_results_['param_min_samples_leaf'].data,[n,m])\n",
    "Z = np.reshape(hisgs.cv_results_['mean_test_score'],[n,m])\n",
    "#plt.zlabel('test score')\n",
    "plt.xlabel('max depth')\n",
    "fig = plt.figure()\n",
    "ax = fig.add_subplot(projection='3d')\n",
    "ax.scatter(X,Y,Z)"
   ]
  },
  {
   "cell_type": "markdown",
   "metadata": {},
   "source": [
    "#### After replacing the min samples leaf, we found 38 to be the best and max depth did not really change much as we changed it around.\n",
    "\n",
    "# Next we will look at Random Forest"
   ]
  },
  {
   "cell_type": "code",
   "execution_count": 13,
   "metadata": {},
   "outputs": [
    {
     "data": {
      "text/plain": [
       "dict_keys(['bootstrap', 'ccp_alpha', 'class_weight', 'criterion', 'max_depth', 'max_features', 'max_leaf_nodes', 'max_samples', 'min_impurity_decrease', 'min_samples_leaf', 'min_samples_split', 'min_weight_fraction_leaf', 'n_estimators', 'n_jobs', 'oob_score', 'random_state', 'verbose', 'warm_start'])"
      ]
     },
     "execution_count": 13,
     "metadata": {},
     "output_type": "execute_result"
    }
   ],
   "source": [
    "Rforest = RandomForestClassifier(random_state=42, class_weight='balanced')\n",
    "Rforest.get_params().keys()\n",
    "#Rforest.fit(X_train,y_train)\n",
    "#Rforest.score(X_test,y_test)*100"
   ]
  },
  {
   "cell_type": "code",
   "execution_count": 14,
   "metadata": {},
   "outputs": [
    {
     "name": "stdout",
     "output_type": "stream",
     "text": [
      "Best Accuracy: 92.26%\n",
      "Best Params: {'criterion': 'entropy', 'n_estimators': 300}\n",
      "Test Accuracy: 92.71%\n"
     ]
    }
   ],
   "source": [
    "#https://github.com/rasbt/stat451-machine-learning-fs21/blob/main/07-ensembles/code/07-05_random-forests.ipynb\n",
    "param_grid = [{'n_estimators': [100,200,300,400],\n",
    "              'criterion': ['gini','entropy']}]\n",
    "rgs = GridSearchCV(estimator=Rforest,\n",
    "                param_grid=param_grid,\n",
    "                cv=10)\n",
    "rgs.fit(X_train,y_train) \n",
    "print('Best Accuracy: %.2f%%' % (rgs.best_score_*100))\n",
    "print('Best Params: %s' % rgs.best_params_)\n",
    "print('Test Accuracy: %.2f%%' % (rgs.best_estimator_.score(X_test,y_test)*100)) "
   ]
  },
  {
   "cell_type": "code",
   "execution_count": 15,
   "metadata": {},
   "outputs": [
    {
     "name": "stdout",
     "output_type": "stream",
     "text": [
      "Best Accuracy: 92.35%\n",
      "Best Params: {'criterion': 'entropy', 'n_estimators': 305}\n",
      "Test Accuracy: 92.71%\n"
     ]
    }
   ],
   "source": [
    "param_grid = [{'n_estimators': [304,305,306,307],\n",
    "              'criterion': ['gini','entropy']}]\n",
    "rgs = GridSearchCV(estimator=Rforest,\n",
    "                param_grid=param_grid,\n",
    "                cv=10)\n",
    "rgs.fit(X_train,y_train) \n",
    "print('Best Accuracy: %.2f%%' % (rgs.best_score_*100))\n",
    "print('Best Params: %s' % rgs.best_params_)\n",
    "print('Test Accuracy: %.2f%%' % (rgs.best_estimator_.score(X_test,y_test)*100)) "
   ]
  },
  {
   "cell_type": "code",
   "execution_count": 17,
   "metadata": {},
   "outputs": [
    {
     "data": {
      "image/png": "[encoded data removed]",
      "text/plain": [
       "<Figure size 432x288 with 2 Axes>"
      ]
     },
     "metadata": {
      "needs_background": "light"
     },
     "output_type": "display_data"
    }
   ],
   "source": [
    "from mlxtend.plotting import heatmap\n",
    "import numpy as np\n",
    "grid = np.zeros((2, 4))\n",
    "grid[0, :] = rgs.cv_results_['mean_test_score'][:4]\n",
    "grid[1, :] = rgs.cv_results_['mean_test_score'][4:]\n",
    "\n",
    "\n",
    "heatmap(grid, \n",
    "        column_names=[304,305,306,307], \n",
    "        row_names=['gini', 'entropy'])\n",
    "plt.ylabel('Criterion')\n",
    "plt.xlabel('Max depth')\n",
    "plt.show()"
   ]
  },
  {
   "cell_type": "markdown",
   "metadata": {},
   "source": [
    "#### We have looked at a few ensemble methods and thought knn could also be useful in this project.\n",
    "\n",
    "# NCA\n",
    "#### We have individual players as a column so we thought reducing dimensionality would help in predicting goals."
   ]
  },
  {
   "cell_type": "code",
   "execution_count": 18,
   "metadata": {},
   "outputs": [
    {
     "data": {
      "text/plain": [
       "<matplotlib.collections.PathCollection at 0x7fb719b28550>"
      ]
     },
     "execution_count": 18,
     "metadata": {},
     "output_type": "execute_result"
    },
    {
     "data": {
      "image/png": "[encoded data removed]",
      "text/plain": [
       "<Figure size 432x288 with 1 Axes>"
      ]
     },
     "metadata": {
      "needs_background": "light"
     },
     "output_type": "display_data"
    }
   ],
   "source": [
    "#source: https://scikit-learn.org/stable/auto_examples/neighbors/plot_nca_dim_reduction.html#sphx-glr-auto-examples-neighbors-plot-nca-dim-reduction-py\n",
    "import numpy as np\n",
    "import matplotlib.pyplot as plt\n",
    "from sklearn import datasets\n",
    "from sklearn.model_selection import train_test_split\n",
    "from sklearn.decomposition import PCA\n",
    "from sklearn.discriminant_analysis import LinearDiscriminantAnalysis\n",
    "from sklearn.neighbors import KNeighborsClassifier, NeighborhoodComponentsAnalysis\n",
    "from sklearn.pipeline import make_pipeline\n",
    "from sklearn.preprocessing import StandardScaler\n",
    "from sklearn.decomposition import PCA\n",
    "#Here we looked for the least amount of principal components to explain the most amount of explained variance.\n",
    "mod = PCA(n_components=len(X_test.columns))\n",
    "mod.fit(X_train,y_train)\n",
    "a=mod.explained_variance_ratio_.cumsum() #variance explained\n",
    "b=range(1,len(X_test.columns)+1) #num of components\n",
    "plt.xlim([0,10])\n",
    "plt.xlabel('# of components')\n",
    "plt.ylabel('variance explained')\n",
    "plt.title('explained variance vs number of components')\n",
    "plt.scatter(b,a)"
   ]
  },
  {
   "cell_type": "markdown",
   "metadata": {},
   "source": [
    "#### Based off the graph, there wasn't much improvement in explained variance after 4 principal components so 4 components seem best. "
   ]
  },
  {
   "cell_type": "code",
   "execution_count": 19,
   "metadata": {},
   "outputs": [
    {
     "name": "stdout",
     "output_type": "stream",
     "text": [
      "{'n_neighbors': 36}\n",
      "0.9039623015873015\n"
     ]
    }
   ],
   "source": [
    "nca = make_pipeline(\n",
    "    StandardScaler(),\n",
    "    NeighborhoodComponentsAnalysis(n_components=4, random_state=42),\n",
    ")\n",
    "knn = KNeighborsClassifier()\n",
    "\n",
    "param_grid = [{'n_neighbors': [35,36,37,38,39]}]\n",
    "\n",
    "kgs = GridSearchCV(estimator = knn, param_grid=param_grid, cv=10,refit=True,scoring='accuracy')\n",
    "\n",
    "nca.fit(X_train, y_train)\n",
    "\n",
    "kgs.fit(nca.transform(X_train),y_train)\n",
    "\n",
    "acc_knn = kgs.score(nca.transform(X_test), y_test)\n",
    "\n",
    "print(kgs.best_params_)\n",
    "print(kgs.best_score_)"
   ]
  },
  {
   "cell_type": "code",
   "execution_count": 20,
   "metadata": {},
   "outputs": [
    {
     "data": {
      "image/png": "[encoded data removed]",
      "text/plain": [
       "<Figure size 432x288 with 2 Axes>"
      ]
     },
     "metadata": {
      "needs_background": "light"
     },
     "output_type": "display_data"
    }
   ],
   "source": [
    "from mlxtend.plotting import heatmap\n",
    "import numpy as np\n",
    "grid = np.zeros((1,5))\n",
    "grid[0, :] = kgs.cv_results_['mean_test_score'][:5]\n",
    "\n",
    "\n",
    "heatmap(grid, \n",
    "        column_names=[35,36,37,38,39],\n",
    "        row_names=['test accuracy'])\n",
    "plt.xlabel('Number of Neighbors')\n",
    "plt.show()"
   ]
  },
  {
   "cell_type": "code",
   "execution_count": 93,
   "metadata": {},
   "outputs": [
    {
     "name": "stdout",
     "output_type": "stream",
     "text": [
      "Q: 85.090\n",
      "p-value: 0.000\n",
      "[[2032   81]\n",
      " [  54   83]]\n",
      "chi-squared: 5.007407407407407\n",
      "p-value: 0.025239078018325235\n"
     ]
    }
   ],
   "source": [
    "y_model_1 = hisgs.predict(X_test)\n",
    "y_model_2 = kgs.predict(nca.transform(X_test))\n",
    "y_model_3 = rgs.predict(X_test)\n",
    "y_test1 = np.array(y_test)\n",
    "q, p_value = cochrans_q(y_test1, \n",
    "                        y_model_1, \n",
    "                        y_model_2, \n",
    "                        y_model_3)\n",
    "\n",
    "print('Q: %.3f' % q)\n",
    "print('p-value: %.3f' % p_value)\n",
    "\n",
    "import numpy as np\n",
    "from mlxtend.evaluate import mcnemar_table\n",
    "\n",
    "# The correct target (class) labels\n",
    "y_target = y_test1\n",
    "\n",
    "tb = mcnemar_table(y_target=y_target, \n",
    "                   y_model1=y_model_1, \n",
    "                   y_model2=y_model_3)\n",
    "\n",
    "print(tb)\n",
    "\n",
    "from mlxtend.evaluate import mcnemar\n",
    "\n",
    "chi2, p = mcnemar(ary=tb, corrected=True)\n",
    "print('chi-squared:', chi2)\n",
    "print('p-value:', p)"
   ]
  },
  {
   "cell_type": "markdown",
   "metadata": {},
   "source": [
    "# Failed attempts"
   ]
  },
  {
   "cell_type": "code",
   "execution_count": null,
   "metadata": {},
   "outputs": [],
   "source": [
    "#https://scikit-learn.org/stable/modules/feature_selection.html#feature-selection-using-selectfrommodel\n",
    "from sklearn.feature_selection import SelectKBest\n",
    "from sklearn.feature_selection import chi2\n",
    "from sklearn.feature_selection import SelectFromModel\n",
    "from sklearn.model_selection import train_test_split\n",
    "from sklearn.ensemble import RandomForestClassifier\n",
    "import pandas as pd\n",
    "#X_new = SelectKBest(chi2, k=50).fit_transform(X,y)\n",
    "laligadf = pd.read_pickle('laligadfmod')\n",
    "laligadf = laligadf.drop('index',axis=1)\n",
    "y=laligadf['outcome']\n",
    "X=laligadf.loc[:, laligadf.columns!='outcome']\n",
    "X_train_new, X_test_new, y_train_new, y_test_new = train_test_split(X, y, random_state=123, test_size=0.5, \n",
    "                                                    shuffle=True, stratify=y)\n",
    "rf = RandomForestClassifier(random_state=42, n_estimators=100, criterion='entropy')\n",
    "model = SelectFromModel(rf,prefit=True)\n",
    "X_new = model.transform(X)"
   ]
  },
  {
   "cell_type": "markdown",
   "metadata": {},
   "source": [
    "#### This code did not work, since the features had names and it didn't make much sense to reduced the number of features like this if some players or teams were cut it may negatively affect our model."
   ]
  },
  {
   "cell_type": "code",
   "execution_count": null,
   "metadata": {},
   "outputs": [],
   "source": [
    "#https://scikit-learn.org/stable/modules/generated/sklearn.ensemble.GradientBoostingClassifier.html\n",
    "boost = GradientBoostingClassifier(learning_rate=0.1,random_state=42,verbose=10)\n",
    "boost.get_params().keys()\n",
    "param_grid  = [{'max_depth': [1,2,3,4,5,None],\n",
    "               'min_samples_leaf': [5,10,15,20,25,30],\n",
    "               'n_estimators': [100,200,300,400,500]}]\n",
    "gs = GridSearchCV(estimator=boost,\n",
    "                    n_jobs=2,\n",
    "                    param_grid=param_grid,\n",
    "                    scoring='accuracy',)\n",
    "gs.fit(X_train,y_train) \n",
    "print('Best Accuracy: %.2f%%' % (gs.best_score_*100))\n",
    "print('Best Params: %s' % gs.best_params_)\n",
    "print('Test Accuracy: %.2f%%' % (gs.best_estimator_.score(X_test,y_test)*100))"
   ]
  },
  {
   "cell_type": "code",
   "execution_count": null,
   "metadata": {},
   "outputs": [],
   "source": [
    "\n",
    "test_accuracy_his = accuracy_score(y_true=y_test, y_pred=hisgs.predict(X_test))*len(X_test)\n",
    "test_accuracy_nca = accuracy_score(y_true=y_test, y_pred=kgs.predict(nca.transform(X_test)))*len(X_test)\n",
    "test_accuracy_random = accuracy_score(y_true=y_test, y_pred=rgs.predict(X_test))*len(X_test)\n",
    "hisright=0\n",
    "kright=0\n",
    "rfright=0\n",
    "for i in len(X_test):\n",
    "    his_pred = hisgs.predic(X_test.iloc[i]) #predict individual hist\n",
    "    knn_pred = kgs.predict(X_test.iloc[i]) #predict individual knn\n",
    "    rand_pred = rgs.predict(X_test.iloc[i]) #predict individual random forest\n",
    "    if(y_test.iat[i]==knn_pred): #histogram\n",
    "        hisright = hisright+1\n",
    "    if(y_test.iat[i]==knn_pred):\n",
    "        kright=kright+1\n",
    "    if(y_test.iat[i]==rand_pred):\n",
    "        rfright=rfright+1\n",
    "    \n",
    "    \n",
    "    "
   ]
  },
  {
   "cell_type": "markdown",
   "metadata": {},
   "source": [
    "### We didn't know initially that there was an mlxtend package for the Cochran or mcnehmar test"
   ]
  },
  {
   "cell_type": "markdown",
   "metadata": {},
   "source": [
    "#### Looking at the scikit learn API, it says do not use this for larger datasets. "
   ]
  },
  {
   "cell_type": "markdown",
   "metadata": {},
   "source": [
    "# Logistic Regression"
   ]
  },
  {
   "cell_type": "code",
   "execution_count": null,
   "metadata": {},
   "outputs": [],
   "source": [
    "from sklearn.linear_model import LogisticRegression\n",
    "logreg = LogisticRegression(random_state=42,verbose=10,class_weight='balanced')\n",
    "logreg.get_params().keys()\n",
    "param_grid = [{'C': [0.1,0.5,1]}]\n",
    "lgs = GridSearchCV(estimator=logreg,\n",
    "                  param_grid=param_grid,\n",
    "                  cv=10)\n",
    "lgs.fit(X_train,y_train)\n",
    "print('best parameters:', lgs.best_params_)\n",
    "print('best accuracy')\n",
    "print('Best test accuracy: ', lgs.best_estimator_(X_test,y_test)*100)\n"
   ]
  }
 ],
 "metadata": {
  "interpreter": {
   "hash": "90e98ce8c2ba6bd25230aef0f4a7feaee408d998691e1b6fbf4fe750f0058d19"
  },
  "kernelspec": {
   "display_name": "Python 3.8.12 64-bit ('base': conda)",
   "language": "python",
   "name": "python3"
  },
  "language_info": {
   "codemirror_mode": {
    "name": "ipython",
    "version": 3
   },
   "file_extension": ".py",
   "mimetype": "text/x-python",
   "name": "python",
   "nbconvert_exporter": "python",
   "pygments_lexer": "ipython3",
   "version": "3.8.12"
  },
  "orig_nbformat": 4
 },
 "nbformat": 4,
 "nbformat_minor": 2
}
