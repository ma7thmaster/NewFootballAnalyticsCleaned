{
 "cells": [
  {
   "cell_type": "code",
   "execution_count": 3,
   "metadata": {},
   "outputs": [
    {
     "name": "stdout",
     "output_type": "stream",
     "text": [
      "0.15418163160595177\n"
     ]
    }
   ],
   "source": [
    "import pandas as pd\n",
    "laligadf = pd.read_pickle('laligadfmod')\n",
    "count = 0\n",
    "temp1 = laligadf.reset_index()\n",
    "temp = temp1['outcome'].copy()\n",
    "for i in range(len(temp)):\n",
    "    if(temp[i]==1):\n",
    "        count = count+1\n",
    "goals = count\n",
    "misses = len(temp)-goals\n",
    "weight = goals/misses\n",
    "print(weight)"
   ]
  }
 ],
 "metadata": {
  "interpreter": {
   "hash": "90e98ce8c2ba6bd25230aef0f4a7feaee408d998691e1b6fbf4fe750f0058d19"
  },
  "kernelspec": {
   "display_name": "Python 3.8.12 64-bit ('base': conda)",
   "language": "python",
   "name": "python3"
  },
  "language_info": {
   "codemirror_mode": {
    "name": "ipython",
    "version": 3
   },
   "file_extension": ".py",
   "mimetype": "text/x-python",
   "name": "python",
   "nbconvert_exporter": "python",
   "pygments_lexer": "ipython3",
   "version": "3.8.12"
  },
  "orig_nbformat": 4
 },
 "nbformat": 4,
 "nbformat_minor": 2
}
