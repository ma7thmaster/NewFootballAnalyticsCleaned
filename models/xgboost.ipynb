{
 "cells": [
  {
   "cell_type": "markdown",
   "metadata": {},
   "source": [
    "Testing out various models which use XGboost with the laligadfmod dataframe here."
   ]
  },
  {
   "cell_type": "code",
   "execution_count": 91,
   "metadata": {},
   "outputs": [],
   "source": [
    "from sklearn.pipeline import make_pipeline\n",
    "from sklearn.ensemble import BaggingClassifier as bg\n",
    "from sklearn.model_selection import train_test_split\n",
    "import pandas as pd \n",
    "import xgboost as xgb \n",
    "from sklearn.model_selection import GridSearchCV\n",
    "from sklearn.pipeline import make_pipeline\n",
    "#from sklearn import accuracy\n",
    "import random\n",
    "from sklearn.neighbors import NeighborhoodComponentsAnalysis as nca \n",
    " \n",
    "random.seed()\n",
    "rand = random.randint(1,100)\n",
    "\n"
   ]
  },
  {
   "cell_type": "code",
   "execution_count": 92,
   "metadata": {},
   "outputs": [],
   "source": [
    "laligadfmod = pd.read_pickle('laligadfmod')\n",
    "\n",
    "y=laligadfmod['outcome']\n",
    "X=laligadfmod.loc[:, laligadfmod.columns!='outcome']\n",
    "X_train, X_test, y_train, y_test = train_test_split(X, y, random_state=123, test_size=0.5, \n",
    "                                                    shuffle=True, stratify=y)"
   ]
  },
  {
   "cell_type": "markdown",
   "metadata": {},
   "source": [
    "Computing weight for the weighted XGboost\n",
    "weight = shots missed/ successful shots"
   ]
  },
  {
   "cell_type": "code",
   "execution_count": 93,
   "metadata": {},
   "outputs": [
    {
     "name": "stdout",
     "output_type": "stream",
     "text": [
      "6.4858569051580695\n"
     ]
    }
   ],
   "source": [
    "laligadf = pd.read_pickle('laligadfmod')\n",
    "count = 0\n",
    "temp1 = laligadf.reset_index()\n",
    "temp = temp1['outcome'].copy()\n",
    "for i in range(len(temp)):\n",
    "    if(temp[i]==1):\n",
    "        count = count+1\n",
    "goals = count\n",
    "misses = len(temp)-goals\n",
    "weight = misses/goals\n",
    "print(weight)"
   ]
  },
  {
   "cell_type": "markdown",
   "metadata": {},
   "source": [
    "Weighted plain XGboost model"
   ]
  },
  {
   "cell_type": "code",
   "execution_count": 94,
   "metadata": {},
   "outputs": [
    {
     "name": "stdout",
     "output_type": "stream",
     "text": [
      "Best Weighted XGboost Accuracy: 91.64%\n",
      "Best Weighted XGboost Params: {'n_estimators': 6}\n",
      "Weighted XGboost Test Accuracy: 92.13%\n"
     ]
    }
   ],
   "source": [
    "param_grid = [{'n_estimators': range(5,10)}]\n",
    "                \n",
    "\n",
    "#boost = xgb.XGBClassifier(\n",
    "#        n_estimators = 10,\n",
    "#        learning_rate = .01,\n",
    "#        scale_pos_weight = weight,\n",
    "#        booster = 'gb_linear', use_label_encoder = False)\n",
    "\n",
    "boost = xgb.XGBClassifier(objective ='reg:squarederror', use_label_encoder=False, scale_pos_weight = weight, learning_rate = .0001)\n",
    "gs = GridSearchCV(estimator=boost, param_grid=param_grid, cv=10, scoring='accuracy')\n",
    "\n",
    "\n",
    "gs.fit(X_train,y_train)\n",
    "print('Best Weighted XGboost Accuracy: %.2f%%' % (gs.best_score_*100))\n",
    "print('Best Weighted XGboost Params: %s' % gs.best_params_)\n",
    "print('Weighted XGboost Test Accuracy: %.2f%%' % (gs.best_estimator_.score(X_test,y_test)*100))"
   ]
  },
  {
   "cell_type": "markdown",
   "metadata": {},
   "source": [
    "Bagged weighted XGboost model using optimal parameters from last model"
   ]
  },
  {
   "cell_type": "code",
   "execution_count": 95,
   "metadata": {},
   "outputs": [
    {
     "data": {
      "text/plain": [
       "BaggingClassifier(base_estimator=XGBClassifier(base_score=None, booster=None,\n",
       "                                               colsample_bylevel=None,\n",
       "                                               colsample_bynode=None,\n",
       "                                               colsample_bytree=None,\n",
       "                                               enable_categorical=False,\n",
       "                                               gamma=None, gpu_id=None,\n",
       "                                               importance_type=None,\n",
       "                                               interaction_constraints=None,\n",
       "                                               learning_rate=0.0001,\n",
       "                                               max_delta_step=None,\n",
       "                                               max_depth=None,\n",
       "                                               min_child_weight=None,\n",
       "                                               missing=nan,\n",
       "                                               monotone_constraints=None,\n",
       "                                               n_estimators=6, n_jobs=None,\n",
       "                                               num_parallel_tree=None,\n",
       "                                               objective='reg:squarederror',\n",
       "                                               predictor=None,\n",
       "                                               random_state=None,\n",
       "                                               reg_alpha=None, reg_lambda=None,\n",
       "                                               scale_pos_weight=6.4858569051580695,\n",
       "                                               subsample=None, tree_method=None,\n",
       "                                               use_label_encoder=False,\n",
       "                                               validate_parameters=None,\n",
       "                                               verbosity=None),\n",
       "                  n_estimators=500, random_state=91)"
      ]
     },
     "execution_count": 95,
     "metadata": {},
     "output_type": "execute_result"
    }
   ],
   "source": [
    "\n",
    "boost = xgb.XGBClassifier(n_estimators = 6, objective ='reg:squarederror', use_label_encoder=False, scale_pos_weight = weight, learning_rate = 0.0001)\n",
    "pred = bg(base_estimator = boost,\n",
    "        n_estimators = 500,\n",
    "        random_state = rand\n",
    "     ).fit(X_train,y_train)\n",
    "pred.fit(X_train, y_train)"
   ]
  },
  {
   "cell_type": "code",
   "execution_count": 96,
   "metadata": {},
   "outputs": [
    {
     "name": "stdout",
     "output_type": "stream",
     "text": [
      "Bagged Weighted XGBoost Training Accuracy: 93.06%\n",
      "Bagged Weighted XGBoost Test Accuracy: 92.27%\n"
     ]
    }
   ],
   "source": [
    "print('Bagged Weighted XGBoost Training Accuracy: %.2f%%' % (pred.score(X_train, y_train)*100))\n",
    "print('Bagged Weighted XGBoost Test Accuracy: %.2f%%' % (pred.score(X_test,y_test)*100))"
   ]
  },
  {
   "cell_type": "code",
   "execution_count": 97,
   "metadata": {},
   "outputs": [
    {
     "name": "stdout",
     "output_type": "stream",
     "text": [
      "[[2059   14]\n",
      " [  17  160]]\n"
     ]
    }
   ],
   "source": [
    "import numpy as np\n",
    "from mlxtend.evaluate import mcnemar_table\n",
    "\n",
    "y_model_1 = gs.predict(X_test)\n",
    "y_model_2 = pred.predict(X_test)\n",
    "\n",
    "\n",
    "y_target = y_test\n",
    "\n",
    "tb = mcnemar_table(y_target=y_target, \n",
    "                   y_model1=y_model_1, \n",
    "                   y_model2=y_model_2)\n",
    "\n",
    "print(tb)\n"
   ]
  },
  {
   "cell_type": "markdown",
   "metadata": {},
   "source": [
    "Calculating chi2 and p values for weighted comparison of bagged and regular xgboost"
   ]
  },
  {
   "cell_type": "code",
   "execution_count": 98,
   "metadata": {},
   "outputs": [
    {
     "name": "stdout",
     "output_type": "stream",
     "text": [
      "chi-squared: 0.12903225806451613\n",
      "p-value: 0.7194375444233914\n"
     ]
    }
   ],
   "source": [
    "from mlxtend.evaluate import mcnemar\n",
    "\n",
    "chi2, p = mcnemar(ary=tb, corrected=True)\n",
    "print('chi-squared:', chi2)\n",
    "print('p-value:', p)"
   ]
  },
  {
   "cell_type": "code",
   "execution_count": 99,
   "metadata": {},
   "outputs": [
    {
     "data": {
      "image/png": "[encoded data removed]",
      "text/plain": [
       "<Figure size 648x648 with 1 Axes>"
      ]
     },
     "metadata": {
      "needs_background": "light"
     },
     "output_type": "display_data"
    }
   ],
   "source": [
    "from mlxtend.plotting import checkerboard_plot\n",
    "import matplotlib.pyplot as plt\n",
    "\n",
    "brd = checkerboard_plot(tb,\n",
    "                        figsize=(9, 9),\n",
    "                        fmt='%d',\n",
    "                        col_labels=['Bagged Weighted XGboost right', 'Bagged Weighted XGboost wrong'],\n",
    "                        row_labels=['Weighted XGboost right', 'Weighted XGboost wrong'])\n",
    "plt.show()\n"
   ]
  },
  {
   "cell_type": "markdown",
   "metadata": {},
   "source": [
    "Unweighted Classifiers\n"
   ]
  },
  {
   "cell_type": "markdown",
   "metadata": {},
   "source": [
    "Doing gridsearch with unweighted xgboost "
   ]
  },
  {
   "cell_type": "code",
   "execution_count": 100,
   "metadata": {},
   "outputs": [
    {
     "name": "stdout",
     "output_type": "stream",
     "text": [
      "Unweighted Best Accuracy: 91.64%\n",
      "Unweighted Best Params: {'n_estimators': 6}\n",
      "Unweighted Test Accuracy: 92.13%\n"
     ]
    }
   ],
   "source": [
    "param_grid = [{'n_estimators': range(5,10)}]\n",
    "                \n",
    "\n",
    "boost_uw = xgb.XGBClassifier(objective ='reg:squarederror', use_label_encoder=False, learning_rate = .0001, weight_pos = 1)\n",
    "gs_uw = GridSearchCV(estimator=boost, param_grid=param_grid, cv=10, scoring='accuracy')\n",
    "\n",
    "\n",
    "gs_uw.fit(X_train,y_train)\n",
    "print('Unweighted Best Accuracy: %.2f%%' % (gs.best_score_*100))\n",
    "print('Unweighted Best Params: %s' % gs.best_params_)\n",
    "print('Unweighted Test Accuracy: %.2f%%' % (gs.best_estimator_.score(X_test,y_test)*100))"
   ]
  },
  {
   "cell_type": "markdown",
   "metadata": {},
   "source": [
    "Choosing 5 estimators as determined optimal by gridsearch"
   ]
  },
  {
   "cell_type": "code",
   "execution_count": 101,
   "metadata": {},
   "outputs": [
    {
     "data": {
      "text/plain": [
       "BaggingClassifier(base_estimator=XGBClassifier(base_score=None, booster=None,\n",
       "                                               colsample_bylevel=None,\n",
       "                                               colsample_bynode=None,\n",
       "                                               colsample_bytree=None,\n",
       "                                               enable_categorical=False,\n",
       "                                               gamma=None, gpu_id=None,\n",
       "                                               importance_type=None,\n",
       "                                               interaction_constraints=None,\n",
       "                                               learning_rate=0.0001,\n",
       "                                               max_delta_step=None,\n",
       "                                               max_depth=None,\n",
       "                                               min_child_weight=None,\n",
       "                                               missing=nan,\n",
       "                                               monotone_constraints=None,\n",
       "                                               n_estimators=5, n_jobs=None,\n",
       "                                               num_parallel_tree=None,\n",
       "                                               objective='reg:squarederror',\n",
       "                                               predictor=None,\n",
       "                                               random_state=None,\n",
       "                                               reg_alpha=None, reg_lambda=None,\n",
       "                                               scale_pos_weight=1,\n",
       "                                               subsample=None, tree_method=None,\n",
       "                                               use_label_encoder=False,\n",
       "                                               validate_parameters=None,\n",
       "                                               verbosity=None),\n",
       "                  n_estimators=500, random_state=91)"
      ]
     },
     "execution_count": 101,
     "metadata": {},
     "output_type": "execute_result"
    }
   ],
   "source": [
    "\n",
    "boost_uw = xgb.XGBClassifier(n_estimators = 5, objective ='reg:squarederror', use_label_encoder=False, scale_pos_weight = 1, learning_rate = 0.0001)\n",
    "pred_uw = bg(base_estimator = boost_uw, n_estimators = 500, random_state = rand)\n",
    "pred_uw.fit(X_train, y_train)"
   ]
  },
  {
   "cell_type": "code",
   "execution_count": 102,
   "metadata": {},
   "outputs": [
    {
     "name": "stdout",
     "output_type": "stream",
     "text": [
      "[[2016   57]\n",
      " [  79   98]]\n"
     ]
    }
   ],
   "source": [
    "import numpy as np\n",
    "from mlxtend.evaluate import mcnemar_table\n",
    "\n",
    "y_model_1_uw = gs_uw.predict(X_test)\n",
    "y_model_2_uw = pred_uw.predict(X_test)\n",
    "\n",
    "\n",
    "y_target_uw = y_test\n",
    "\n",
    "tb_uw = mcnemar_table(y_target=y_target_uw, \n",
    "                   y_model1=y_model_1_uw, \n",
    "                   y_model2=y_model_2_uw)\n",
    "\n",
    "print(tb_uw)\n"
   ]
  },
  {
   "cell_type": "markdown",
   "metadata": {},
   "source": [
    "Calculating chi2 and p values for weighted comparison of bagged and regular xgboost"
   ]
  },
  {
   "cell_type": "code",
   "execution_count": 103,
   "metadata": {},
   "outputs": [
    {
     "name": "stdout",
     "output_type": "stream",
     "text": [
      "chi-squared: 3.2426470588235294\n",
      "p-value: 0.07174463553427425\n"
     ]
    }
   ],
   "source": [
    "from mlxtend.evaluate import mcnemar\n",
    "\n",
    "chi2_uw, p_uw = mcnemar(ary=tb_uw, corrected=True)\n",
    "print('chi-squared:', chi2_uw)\n",
    "print('p-value:', p_uw)"
   ]
  },
  {
   "cell_type": "code",
   "execution_count": 104,
   "metadata": {},
   "outputs": [
    {
     "data": {
      "image/png": "[encoded data removed]",
      "text/plain": [
       "<Figure size 648x648 with 1 Axes>"
      ]
     },
     "metadata": {
      "needs_background": "light"
     },
     "output_type": "display_data"
    }
   ],
   "source": [
    "from mlxtend.plotting import checkerboard_plot\n",
    "import matplotlib.pyplot as plt\n",
    "\n",
    "brd = checkerboard_plot(tb_uw,\n",
    "                        figsize=(9, 9),\n",
    "                        fmt='%d',\n",
    "                        col_labels=['Bagged Unweighted XGboost right', 'Bagged Unweighted XGboost wrong'],\n",
    "                        row_labels=['Unweighted XGboost right', 'Unweighted XGboost wrong'])\n",
    "#brd.title(\"Unweighted XGboost vs Bagged Unweighted XGboost\")\n",
    "plt.show()\n"
   ]
  }
 ],
 "metadata": {
  "interpreter": {
   "hash": "aee8b7b246df8f9039afb4144a1f6fd8d2ca17a180786b69acc140d282b71a49"
  },
  "kernelspec": {
   "display_name": "Python 3.9.7 64-bit",
   "name": "python3"
  },
  "language_info": {
   "codemirror_mode": {
    "name": "ipython",
    "version": 3
   },
   "file_extension": ".py",
   "mimetype": "text/x-python",
   "name": "python",
   "nbconvert_exporter": "python",
   "pygments_lexer": "ipython3",
   "version": "3.9.7"
  },
  "orig_nbformat": 4
 },
 "nbformat": 4,
 "nbformat_minor": 2
}
