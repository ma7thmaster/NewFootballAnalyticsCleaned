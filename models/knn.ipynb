{
 "cells": [
  {
   "cell_type": "markdown",
   "metadata": {},
   "source": [
    "# Import the data from data extraction\n",
    "#### First import some packages"
   ]
  },
  {
   "cell_type": "code",
   "execution_count": 2,
   "metadata": {},
   "outputs": [],
   "source": [
    "import pandas as pd\n",
    "import numpy as np\n",
    "from sklearn.pipeline import make_pipeline\n",
    "from sklearn.preprocessing import OneHotEncoder\n",
    "from sklearn.compose import ColumnTransformer\n",
    "from sklearn.model_selection import train_test_split\n",
    "from sklearn.neighbors import KNeighborsClassifier\n",
    "from sklearn.pipeline import make_pipeline\n",
    "from sklearn.model_selection import GridSearchCV"
   ]
  },
  {
   "cell_type": "code",
   "execution_count": 14,
   "metadata": {},
   "outputs": [
    {
     "name": "stdout",
     "output_type": "stream",
     "text": [
      "Best Accuracy: 86.66%\n",
      "Best Params: {'n_neighbors': 20}\n",
      "Test Accuracy: 86.36%\n"
     ]
    }
   ],
   "source": [
    "laligadf = pd.read_pickle('laligadfmod')\n",
    "y=laligadf['outcome']\n",
    "X=laligadf.loc[:, laligadf.columns!='outcome']\n",
    "X_train, X_test, y_train, y_test = train_test_split(X, y, random_state=123, test_size=0.5, \n",
    "                                                    shuffle=True, stratify=y)\n",
    "\n",
    "knn = KNeighborsClassifier(algorithm='ball_tree')\n",
    "param_grid = [{'n_neighbors': [3,5,27,15,20]}]\n",
    "\n",
    "gs = GridSearchCV(estimator=knn,\n",
    "                    param_grid=param_grid,\n",
    "                    cv=10,\n",
    "                    scoring='accuracy')\n",
    "\n",
    "gs.fit(X_train,y_train)\n",
    "gs.fit(X_train, y_train)\n",
    "print('Best Accuracy: %.2f%%' % (gs.best_score_*100))\n",
    "print('Best Params: %s' % gs.best_params_)\n",
    "print('Test Accuracy: %.2f%%' % (gs.best_estimator_.score(X_test,y_test)*100))"
   ]
  },
  {
   "cell_type": "markdown",
   "metadata": {},
   "source": [
    "#### Here we noticed that the maximum neighbors had the highest accuracy so we thought testing around 20 next would be best in finding the best hyperparameters"
   ]
  },
  {
   "cell_type": "code",
   "execution_count": 18,
   "metadata": {},
   "outputs": [
    {
     "name": "stdout",
     "output_type": "stream",
     "text": [
      "Best Accuracy: 86.71%\n",
      "Best Params: {'n_neighbors': 22}\n",
      "Test Accuracy: 86.44%\n",
      "False\n"
     ]
    }
   ],
   "source": [
    "laligadf = pd.read_pickle('laligadfmod')\n",
    "y=laligadf['outcome']\n",
    "X=laligadf.loc[:, laligadf.columns!='outcome']\n",
    "X_train, X_test, y_train, y_test = train_test_split(X, y, random_state=123, test_size=0.5, \n",
    "                                                    shuffle=True, stratify=y)\n",
    "\n",
    "knn = KNeighborsClassifier(algorithm='ball_tree')\n",
    "param_grid = [{'n_neighbors': range(18,30)}]\n",
    "\n",
    "gs = GridSearchCV(estimator=knn,\n",
    "                    param_grid=param_grid,\n",
    "                    cv=10,\n",
    "                    scoring='accuracy') \n",
    "\n",
    "gs.fit(X_train,y_train)\n",
    "gs.fit(X_train, y_train)\n",
    "print('Best Accuracy: %.2f%%' % (gs.best_score_*100))\n",
    "print('Best Params: %s' % gs.best_params_)\n",
    "print('Test Accuracy: %.2f%%' % (gs.best_estimator_.score(X_test,y_test)*100))\n",
    "ratio = 1-0.13358524116470327\n",
    "print(gs.best_estimator_.score(X_test,y_test)>ratio)"
   ]
  },
  {
   "cell_type": "markdown",
   "metadata": {},
   "source": [
    "#### KNN has a test accuracy little less than guessing every shot will be a miss. So, this classifier probably won't be very accurate. "
   ]
  }
 ],
 "metadata": {
  "interpreter": {
   "hash": "90e98ce8c2ba6bd25230aef0f4a7feaee408d998691e1b6fbf4fe750f0058d19"
  },
  "kernelspec": {
   "display_name": "Python 3.8.8 64-bit ('base': conda)",
   "language": "python",
   "name": "python3"
  },
  "language_info": {
   "codemirror_mode": {
    "name": "ipython",
    "version": 3
   },
   "file_extension": ".py",
   "mimetype": "text/x-python",
   "name": "python",
   "nbconvert_exporter": "python",
   "pygments_lexer": "ipython3",
   "version": "3.8.12"
  },
  "orig_nbformat": 4
 },
 "nbformat": 4,
 "nbformat_minor": 2
}
