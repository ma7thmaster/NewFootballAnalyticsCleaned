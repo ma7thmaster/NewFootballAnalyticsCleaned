{
 "cells": [
  {
   "cell_type": "markdown",
   "metadata": {},
   "source": [
    "# Import the data from data extraction\n",
    "#### First import some packages"
   ]
  },
  {
   "cell_type": "code",
   "execution_count": 1,
   "metadata": {},
   "outputs": [],
   "source": [
    "import pandas as pd\n",
    "import numpy as np\n",
    "from sklearn.pipeline import make_pipeline\n",
    "from sklearn.preprocessing import OneHotEncoder\n",
    "from sklearn.compose import ColumnTransformer\n",
    "from sklearn.model_selection import train_test_split\n",
    "from sklearn.neighbors import KNeighborsClassifier\n",
    "from sklearn.pipeline import make_pipeline\n",
    "from sklearn.model_selection import GridSearchCV\n",
    "import matplotlib.pyplot as plt"
   ]
  },
  {
   "cell_type": "code",
   "execution_count": 2,
   "metadata": {},
   "outputs": [
    {
     "name": "stdout",
     "output_type": "stream",
     "text": [
      "{'mean_fit_time': array([0.04840789, 0.04712708, 0.04607182, 0.04710138, 0.04531968]), 'std_fit_time': array([0.00271722, 0.00264507, 0.00189703, 0.00207723, 0.00031037]), 'mean_score_time': array([0.02884486, 0.02926855, 0.03364406, 0.03211019, 0.03185949]), 'std_score_time': array([0.00190887, 0.00171548, 0.00129167, 0.00244954, 0.00036824]), 'param_n_neighbors': masked_array(data=[3, 5, 27, 15, 20],\n",
      "             mask=[False, False, False, False, False],\n",
      "       fill_value='?',\n",
      "            dtype=object), 'params': [{'n_neighbors': 3}, {'n_neighbors': 5}, {'n_neighbors': 27}, {'n_neighbors': 15}, {'n_neighbors': 20}], 'split0_test_score': array([0.82666667, 0.82222222, 0.86666667, 0.86222222, 0.86666667]), 'split1_test_score': array([0.83555556, 0.84888889, 0.86666667, 0.87111111, 0.86666667]), 'split2_test_score': array([0.8       , 0.81333333, 0.86666667, 0.86666667, 0.86666667]), 'split3_test_score': array([0.79555556, 0.84      , 0.86222222, 0.86222222, 0.86222222]), 'split4_test_score': array([0.83111111, 0.82222222, 0.86222222, 0.85777778, 0.86222222]), 'split5_test_score': array([0.81777778, 0.85777778, 0.86666667, 0.86222222, 0.86666667]), 'split6_test_score': array([0.84      , 0.84888889, 0.86666667, 0.87111111, 0.87111111]), 'split7_test_score': array([0.82666667, 0.84444444, 0.86666667, 0.87555556, 0.86666667]), 'split8_test_score': array([0.82666667, 0.84444444, 0.86666667, 0.86666667, 0.86666667]), 'split9_test_score': array([0.81696429, 0.84375   , 0.87053571, 0.86607143, 0.87053571]), 'mean_test_score': array([0.82169643, 0.83859722, 0.86616468, 0.8661627 , 0.86660913]), 'std_test_score': array([0.0137174 , 0.01360579, 0.00227938, 0.00504584, 0.00272389]), 'rank_test_score': array([5, 4, 2, 3, 1], dtype=int32)}\n",
      "Best Accuracy: 86.66%\n",
      "Best Params: {'n_neighbors': 20}\n",
      "Test Accuracy: 86.36%\n"
     ]
    }
   ],
   "source": [
    "laligadf = pd.read_pickle('laligadfmod')\n",
    "y=laligadf['outcome']\n",
    "X=laligadf.loc[:, laligadf.columns!='outcome']\n",
    "X_train, X_test, y_train, y_test = train_test_split(X, y, random_state=123, test_size=0.5, \n",
    "                                                    shuffle=True, stratify=y)\n",
    "\n",
    "knn = KNeighborsClassifier(algorithm='ball_tree')\n",
    "param_grid = [{'n_neighbors': [3,5,27,15,20]}]\n",
    "\n",
    "gs = GridSearchCV(estimator=knn,\n",
    "                    param_grid=param_grid,\n",
    "                    cv=10,\n",
    "                    scoring='accuracy')\n",
    "\n",
    "gs.fit(X_train,y_train)\n",
    "print('Best Accuracy: %.2f%%' % (gs.best_score_*100))\n",
    "print('Best Params: %s' % gs.best_params_)\n",
    "print('Test Accuracy: %.2f%%' % (gs.best_estimator_.score(X_test,y_test)*100))"
   ]
  },
  {
   "cell_type": "markdown",
   "metadata": {},
   "source": [
    "#### Here we noticed that the maximum neighbors had the highest accuracy so we thought testing around 20 next would be best in finding the best hyperparameters"
   ]
  },
  {
   "cell_type": "code",
   "execution_count": 8,
   "metadata": {},
   "outputs": [
    {
     "name": "stdout",
     "output_type": "stream",
     "text": [
      "{'mean_fit_time': array([0.04853616, 0.04591451, 0.0459713 , 0.04524093, 0.0448801 ,\n",
      "       0.04509597, 0.04490364, 0.04546432, 0.04528236, 0.04496651,\n",
      "       0.04498234, 0.04848082, 0.050138  , 0.05389483, 0.06399879,\n",
      "       0.05106866, 0.05217872, 0.04829092, 0.04775202, 0.04682431,\n",
      "       0.04765651, 0.04695086, 0.04715731, 0.04682827, 0.04674201,\n",
      "       0.04889886, 0.04696112, 0.04768045, 0.04583194]), 'std_fit_time': array([0.00306196, 0.00072783, 0.00032347, 0.00092127, 0.00020449,\n",
      "       0.00028529, 0.00025119, 0.00148335, 0.00089207, 0.00032299,\n",
      "       0.00036162, 0.00205558, 0.00281913, 0.00537238, 0.01187689,\n",
      "       0.00278456, 0.00651517, 0.00291858, 0.00323665, 0.00198696,\n",
      "       0.00208486, 0.00106722, 0.00350494, 0.00242566, 0.00202014,\n",
      "       0.0020905 , 0.00099941, 0.00626464, 0.00101238]), 'mean_score_time': array([0.0263283 , 0.02649713, 0.02745185, 0.02746952, 0.0277986 ,\n",
      "       0.02825575, 0.02860737, 0.02910597, 0.02949049, 0.02956738,\n",
      "       0.02976162, 0.03363895, 0.03628078, 0.03716013, 0.04194477,\n",
      "       0.036624  , 0.03404894, 0.03270571, 0.03321648, 0.03270445,\n",
      "       0.03339863, 0.0338645 , 0.03263459, 0.03374691, 0.03327518,\n",
      "       0.03603039, 0.03720696, 0.03462474, 0.03349261]), 'std_score_time': array([0.00110465, 0.00060905, 0.00050404, 0.0005283 , 0.00062587,\n",
      "       0.0005737 , 0.00046122, 0.00049978, 0.00081693, 0.00033938,\n",
      "       0.00034316, 0.00103931, 0.00693193, 0.00344382, 0.00702493,\n",
      "       0.00801569, 0.001889  , 0.00151565, 0.00264338, 0.0013882 ,\n",
      "       0.00110719, 0.00144787, 0.00053345, 0.00191977, 0.00096277,\n",
      "       0.00183893, 0.00209112, 0.00120656, 0.00039655]), 'param_n_neighbors': masked_array(data=[1, 2, 3, 4, 5, 6, 7, 8, 9, 10, 11, 12, 13, 14, 15, 16,\n",
      "                   17, 18, 19, 20, 21, 22, 23, 24, 25, 26, 27, 28, 29],\n",
      "             mask=[False, False, False, False, False, False, False, False,\n",
      "                   False, False, False, False, False, False, False, False,\n",
      "                   False, False, False, False, False, False, False, False,\n",
      "                   False, False, False, False, False],\n",
      "       fill_value='?',\n",
      "            dtype=object), 'params': [{'n_neighbors': 1}, {'n_neighbors': 2}, {'n_neighbors': 3}, {'n_neighbors': 4}, {'n_neighbors': 5}, {'n_neighbors': 6}, {'n_neighbors': 7}, {'n_neighbors': 8}, {'n_neighbors': 9}, {'n_neighbors': 10}, {'n_neighbors': 11}, {'n_neighbors': 12}, {'n_neighbors': 13}, {'n_neighbors': 14}, {'n_neighbors': 15}, {'n_neighbors': 16}, {'n_neighbors': 17}, {'n_neighbors': 18}, {'n_neighbors': 19}, {'n_neighbors': 20}, {'n_neighbors': 21}, {'n_neighbors': 22}, {'n_neighbors': 23}, {'n_neighbors': 24}, {'n_neighbors': 25}, {'n_neighbors': 26}, {'n_neighbors': 27}, {'n_neighbors': 28}, {'n_neighbors': 29}], 'split0_test_score': array([0.81777778, 0.85333333, 0.82666667, 0.84888889, 0.82222222,\n",
      "       0.85333333, 0.84888889, 0.85777778, 0.85333333, 0.86222222,\n",
      "       0.85777778, 0.86222222, 0.86222222, 0.86666667, 0.86222222,\n",
      "       0.86666667, 0.86666667, 0.86666667, 0.86222222, 0.86666667,\n",
      "       0.86666667, 0.86666667, 0.86666667, 0.86666667, 0.86666667,\n",
      "       0.86666667, 0.86666667, 0.86666667, 0.86666667]), 'split1_test_score': array([0.76888889, 0.84      , 0.83555556, 0.85333333, 0.84888889,\n",
      "       0.86666667, 0.86666667, 0.87555556, 0.88      , 0.87555556,\n",
      "       0.86666667, 0.87111111, 0.87111111, 0.87111111, 0.87111111,\n",
      "       0.87111111, 0.87111111, 0.86666667, 0.87111111, 0.86666667,\n",
      "       0.86666667, 0.86666667, 0.86666667, 0.86666667, 0.86666667,\n",
      "       0.86666667, 0.86666667, 0.86666667, 0.86666667]), 'split2_test_score': array([0.73777778, 0.84888889, 0.8       , 0.83555556, 0.81333333,\n",
      "       0.84888889, 0.84      , 0.85777778, 0.84      , 0.86222222,\n",
      "       0.84888889, 0.86222222, 0.86222222, 0.86666667, 0.86666667,\n",
      "       0.86666667, 0.86666667, 0.86666667, 0.86666667, 0.86666667,\n",
      "       0.86666667, 0.86666667, 0.86666667, 0.86666667, 0.86666667,\n",
      "       0.86666667, 0.86666667, 0.86666667, 0.86666667]), 'split3_test_score': array([0.76444444, 0.84444444, 0.79555556, 0.85333333, 0.84      ,\n",
      "       0.85777778, 0.85333333, 0.86222222, 0.86222222, 0.86222222,\n",
      "       0.86222222, 0.86222222, 0.86222222, 0.86222222, 0.86222222,\n",
      "       0.86222222, 0.86222222, 0.86222222, 0.86222222, 0.86222222,\n",
      "       0.86222222, 0.86222222, 0.86222222, 0.86222222, 0.86222222,\n",
      "       0.86222222, 0.86222222, 0.86222222, 0.86222222]), 'split4_test_score': array([0.80888889, 0.85777778, 0.83111111, 0.84444444, 0.82222222,\n",
      "       0.84444444, 0.83555556, 0.84888889, 0.84      , 0.85333333,\n",
      "       0.85777778, 0.86222222, 0.85777778, 0.85777778, 0.85777778,\n",
      "       0.86666667, 0.86222222, 0.86222222, 0.86222222, 0.86222222,\n",
      "       0.86222222, 0.86666667, 0.86222222, 0.86222222, 0.86222222,\n",
      "       0.86222222, 0.86222222, 0.86222222, 0.86222222]), 'split5_test_score': array([0.80444444, 0.84888889, 0.81777778, 0.84888889, 0.85777778,\n",
      "       0.87111111, 0.86222222, 0.86222222, 0.85333333, 0.85777778,\n",
      "       0.85333333, 0.86222222, 0.86222222, 0.86222222, 0.86222222,\n",
      "       0.86222222, 0.86222222, 0.86666667, 0.86222222, 0.86666667,\n",
      "       0.86666667, 0.86666667, 0.86666667, 0.86666667, 0.86666667,\n",
      "       0.86666667, 0.86666667, 0.86666667, 0.86666667]), 'split6_test_score': array([0.80444444, 0.85777778, 0.84      , 0.84888889, 0.84888889,\n",
      "       0.86666667, 0.86666667, 0.86666667, 0.87555556, 0.86222222,\n",
      "       0.86222222, 0.86666667, 0.87111111, 0.87111111, 0.87111111,\n",
      "       0.87555556, 0.87555556, 0.87111111, 0.87555556, 0.87111111,\n",
      "       0.87111111, 0.87111111, 0.87111111, 0.87111111, 0.87111111,\n",
      "       0.86666667, 0.86666667, 0.86666667, 0.86666667]), 'split7_test_score': array([0.76444444, 0.84888889, 0.82666667, 0.86222222, 0.84444444,\n",
      "       0.87111111, 0.85777778, 0.88      , 0.88      , 0.87555556,\n",
      "       0.87111111, 0.87555556, 0.87111111, 0.87555556, 0.87555556,\n",
      "       0.87111111, 0.87111111, 0.86666667, 0.86666667, 0.86666667,\n",
      "       0.86666667, 0.86666667, 0.86666667, 0.86666667, 0.86666667,\n",
      "       0.86666667, 0.86666667, 0.86666667, 0.86666667]), 'split8_test_score': array([0.77333333, 0.84888889, 0.82666667, 0.85777778, 0.84444444,\n",
      "       0.86666667, 0.85777778, 0.86222222, 0.86666667, 0.85777778,\n",
      "       0.84888889, 0.85333333, 0.85777778, 0.86666667, 0.86666667,\n",
      "       0.87111111, 0.86666667, 0.86666667, 0.86666667, 0.86666667,\n",
      "       0.86666667, 0.86666667, 0.86666667, 0.86666667, 0.86666667,\n",
      "       0.86666667, 0.86666667, 0.86666667, 0.86666667]), 'split9_test_score': array([0.75892857, 0.83928571, 0.81696429, 0.85267857, 0.84375   ,\n",
      "       0.84821429, 0.84821429, 0.86160714, 0.85267857, 0.86160714,\n",
      "       0.85267857, 0.86160714, 0.86160714, 0.86607143, 0.86607143,\n",
      "       0.87053571, 0.86607143, 0.87053571, 0.87053571, 0.87053571,\n",
      "       0.87053571, 0.87053571, 0.87053571, 0.86607143, 0.87053571,\n",
      "       0.86607143, 0.87053571, 0.87053571, 0.87053571]), 'mean_test_score': array([0.7803373 , 0.84881746, 0.82169643, 0.85060119, 0.83859722,\n",
      "       0.8594881 , 0.85371032, 0.86349405, 0.86037897, 0.8630496 ,\n",
      "       0.85815675, 0.86393849, 0.86393849, 0.86660714, 0.8661627 ,\n",
      "       0.8683869 , 0.86705159, 0.86660913, 0.86660913, 0.86660913,\n",
      "       0.86660913, 0.86705357, 0.86660913, 0.8661627 , 0.86660913,\n",
      "       0.86571825, 0.86616468, 0.86616468, 0.86616468]), 'std_test_score': array([0.02516789, 0.00607218, 0.0137174 , 0.00692004, 0.01360579,\n",
      "       0.00965062, 0.010062  , 0.00845616, 0.01425628, 0.00683818,\n",
      "       0.00706144, 0.00571383, 0.00497459, 0.00487192, 0.00504584,\n",
      "       0.00403925, 0.00420298, 0.00272389, 0.00438992, 0.00272389,\n",
      "       0.00272389, 0.00230171, 0.00272389, 0.00238901, 0.00272389,\n",
      "       0.00175686, 0.00227938, 0.00227938, 0.00227938]), 'rank_test_score': array([29, 26, 28, 25, 27, 22, 24, 19, 21, 20, 23, 17, 17, 10, 14,  1,  3,\n",
      "        4,  4,  4,  4,  2,  4, 14,  4, 16, 11, 11, 11], dtype=int32)}\n",
      "Best Accuracy: 86.84%\n",
      "Best Params: {'n_neighbors': 16}\n",
      "Test Accuracy: 86.36%\n",
      "False\n"
     ]
    }
   ],
   "source": [
    "laligadf = pd.read_pickle('laligadfmod')\n",
    "y=laligadf['outcome']\n",
    "X=laligadf.loc[:, laligadf.columns!='outcome']\n",
    "X_train, X_test, y_train, y_test = train_test_split(X, y, random_state=123, test_size=0.5, \n",
    "                                                    shuffle=True, stratify=y)\n",
    "\n",
    "knn = KNeighborsClassifier(algorithm='ball_tree')\n",
    "param_grid = [{'n_neighbors': range(1,30)}]\n",
    "\n",
    "gs = GridSearchCV(estimator=knn,\n",
    "                    param_grid=param_grid,\n",
    "                    cv=10,\n",
    "                    scoring='accuracy') \n",
    "\n",
    "gs.fit(X_train,y_train)\n",
    "print(gs.cv_results_)\n",
    "print('Best Accuracy: %.2f%%' % (gs.best_score_*100))\n",
    "print('Best Params: %s' % gs.best_params_)\n",
    "print('Test Accuracy: %.2f%%' % (gs.best_estimator_.score(X_test,y_test)*100))\n",
    "ratio = 1-0.13358524116470327\n",
    "print(gs.best_estimator_.score(X_test,y_test)>ratio)"
   ]
  },
  {
   "cell_type": "markdown",
   "metadata": {},
   "source": [
    "#### KNN has a test accuracy little less than guessing every shot will be a miss. So, this classifier probably won't be very accurate. "
   ]
  },
  {
   "cell_type": "code",
   "execution_count": 90,
   "metadata": {},
   "outputs": [
    {
     "name": "stdout",
     "output_type": "stream",
     "text": [
      "0.88\n"
     ]
    }
   ],
   "source": [
    "import numpy as np\n",
    "import matplotlib.pyplot as plt\n",
    "from sklearn import datasets\n",
    "from sklearn.model_selection import train_test_split\n",
    "from sklearn.decomposition import PCA\n",
    "from sklearn.discriminant_analysis import LinearDiscriminantAnalysis\n",
    "from sklearn.neighbors import KNeighborsClassifier, NeighborhoodComponentsAnalysis\n",
    "from sklearn.pipeline import make_pipeline\n",
    "from sklearn.preprocessing import StandardScaler\n",
    "\n",
    "n_neighbors = 16\n",
    "random_state = 0\n",
    "\n",
    "laligadf = pd.read_pickle('laligadfmod')\n",
    "y=laligadf['outcome']\n",
    "X=laligadf.loc[:, laligadf.columns!='outcome']\n",
    "y=y.to_numpy()\n",
    "X=X.to_numpy()\n",
    "\n",
    "X_train, X_test, y_train, y_test = train_test_split(\n",
    "    X, y, test_size=0.5, stratify=y, random_state=random_state\n",
    ")\n",
    "nca = make_pipeline(\n",
    "    StandardScaler(),\n",
    "    NeighborhoodComponentsAnalysis(n_components=6, random_state=random_state),\n",
    ")\n",
    "knn = KNeighborsClassifier(n_neighbors=n_neighbors)\n",
    "\n",
    "nca.fit(X_train, y_train)\n",
    "\n",
    "knn.fit(nca.transform(X_train),y_train)\n",
    "\n",
    "acc_knn = knn.score(nca.transform(X_test), y_test)\n",
    "\n",
    "print(acc_knn)"
   ]
  }
 ],
 "metadata": {
  "interpreter": {
   "hash": "90e98ce8c2ba6bd25230aef0f4a7feaee408d998691e1b6fbf4fe750f0058d19"
  },
  "kernelspec": {
   "display_name": "Python 3.8.8 64-bit ('base': conda)",
   "language": "python",
   "name": "python3"
  },
  "language_info": {
   "codemirror_mode": {
    "name": "ipython",
    "version": 3
   },
   "file_extension": ".py",
   "mimetype": "text/x-python",
   "name": "python",
   "nbconvert_exporter": "python",
   "pygments_lexer": "ipython3",
   "version": "3.8.12"
  },
  "orig_nbformat": 4
 },
 "nbformat": 4,
 "nbformat_minor": 2
}
