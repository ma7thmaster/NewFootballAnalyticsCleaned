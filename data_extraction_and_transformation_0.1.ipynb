{
  "cells": [
    {
      "cell_type": "markdown",
      "metadata": {
        "id": "c8yCb5m0fHC0"
      },
      "source": [
        "# Data Extraction & Transformation\n",
        "\n",
        "##### Parsing raw StatsBomb data and storing it in a Pandas DataFrame\n",
        "\n",
        "---"
      ]
    },
    {
      "cell_type": "code",
      "execution_count": 79,
      "metadata": {
        "id": "ctM4C02sfHC7"
      },
      "outputs": [],
      "source": [
        "import requests\n",
        "import pandas as pd\n",
        "import numpy as np\n",
        "from tqdm import tqdm\n",
        "from sklearn.preprocessing import OneHotEncoder\n",
        "from statsbombpy import sb\n",
        "from sklearn.pipeline import make_pipeline\n",
        "from sklearn.preprocessing import OneHotEncoder\n",
        "from sklearn.compose import ColumnTransformer\n",
        "from sklearn.model_selection import train_test_split"
      ]
    },
    {
      "cell_type": "markdown",
      "metadata": {
        "id": "MJuFvXM_fHDB"
      },
      "source": [
        "- `requests` is a great library for executing HTTP requests\n",
        "- `pandas` is a data analysis and manipulation package\n",
        "- `tqdm` is a clean progress bar library\n",
        "\n",
        "---"
      ]
    },
    {
      "cell_type": "code",
      "execution_count": 2,
      "metadata": {
        "id": "xokzTlW4fHDC"
      },
      "outputs": [],
      "source": [
        "base_url = \"https://raw.githubusercontent.com/statsbomb/open-data/master/data/\"\n",
        "comp_url = base_url + \"matches/{}/{}.json\"\n",
        "match_url = base_url + \"events/{}.json\""
      ]
    },
    {
      "cell_type": "markdown",
      "metadata": {
        "id": "cjC0K0YTfHDD"
      },
      "source": [
        "These URLs are the locations where the raw StatsBomb data lives. Notice the `{}` in there, which are dynamically replaced with IDs with `.format()`\n",
        "\n",
        "___"
      ]
    },
    {
      "cell_type": "code",
      "execution_count": 4,
      "metadata": {
        "id": "sENhtOaDfHDD"
      },
      "outputs": [],
      "source": [
        "def parse_data(competition_id, season_id):\n",
        "    matches = requests.get(url=comp_url.format(competition_id, season_id)).json()\n",
        "    match_ids = [m['match_id'] for m in matches]\n",
        "\n",
        "    all_events = []\n",
        "    for match_id in tqdm(match_ids):\n",
        "\n",
        "        events = requests.get(url=match_url.format(match_id)).json()\n",
        "\n",
        "        shots = [x for x in events if x['type']['name'] == \"Shot\"]\n",
        "        for s in shots:\n",
        "            try:\n",
        "                aerial_won_t = s['shot']['aerial_won']\n",
        "            except KeyError:\n",
        "                aerial_won_t = False\n",
        "\n",
        "            try:\n",
        "                follows_dribble_t = s['shot']['follows_dribble']\n",
        "            except KeyError:\n",
        "                follows_dribble_t = False\n",
        "            \n",
        "            try:\n",
        "                first_time_t = s['shot']['first_time']\n",
        "            except KeyError:\n",
        "                first_time_t = False\n",
        "\n",
        "            try:\n",
        "                open_goal_t = s['shot']['open_goal']\n",
        "            except KeyError:\n",
        "                open_goal_t = False\n",
        "\n",
        "            try:\n",
        "                deflected_t = s['shot']['deflected']\n",
        "            except KeyError:\n",
        "                deflected_t = False\n",
        "            \n",
        "\n",
        "            attributes = {\n",
        "                \"match_id\": match_id,\n",
        "                \"team\": s[\"possession_team\"][\"name\"],\n",
        "                \"player\": s['player']['name'],\n",
        "                \"x\": s['location'][0],\n",
        "                \"y\": s['location'][1],\n",
        "                \n",
        "                \"type\": s['shot']['type']['name'],\n",
        "                \n",
        "                \"end_x\": s['shot']['end_location'][0],\n",
        "                \"end_y\": s['shot']['end_location'][1],\n",
        "                \n",
        "                \"technique\": s['shot']['technique']['name'],\n",
        "                \n",
        "                \n",
        "                \"aerial_won\": aerial_won_t,\n",
        "\n",
        "                \"follows_dribble\": follows_dribble_t,\n",
        "\n",
        "                \"first_time\": first_time_t,\n",
        "\n",
        "                \"open_goal\": open_goal_t,\n",
        "\n",
        "                \"deflected\": deflected_t,\n",
        "\n",
        "                \"xg\": s['shot']['statsbomb_xg'],\n",
        "\n",
        "\n",
        "\n",
        "                \"outcome\": s['shot']['outcome']['name']\n",
        "                \n",
        "            }\n",
        "            all_events.append(attributes)\n",
        "            \n",
        "    return pd.DataFrame(all_events)"
      ]
    },
    {
      "cell_type": "markdown",
      "metadata": {
        "id": "9CKiSqJ7fHDE"
      },
      "source": [
        "The `parse_data` function handles the full Extract & Transform process.\n",
        "\n",
        "The sequence of events is this:\n",
        "1. The list of matches is loaded into the `matches` list.\n",
        "2. Match IDs are extracted into a separate list using a list comprehension on `matches`.\n",
        "3. Iterate over Match ID's, and load each match's raw data into the `events` list.\n",
        "4. Shots are extracted into a separate list using a list comprehension as a filter on `events`.\n",
        "5. Iterate over shots and extract individual features and store them in the `attributes` dictionary.\n",
        "6. Append each shot's `attributes` into the `all_events` list.\n",
        "7. Return a Pandas DataFrame from the `all_events` list.\n",
        "\n",
        "---"
      ]
    },
    {
      "cell_type": "code",
      "execution_count": 33,
      "metadata": {
        "id": "mVQGr1GhfHDF"
      },
      "outputs": [],
      "source": [
        "competition_id = 11\n",
        "season_id = 1"
      ]
    },
    {
      "cell_type": "markdown",
      "metadata": {
        "id": "dAHM_5kNfHDG"
      },
      "source": [
        "- `competition_id = 43` - StatsBomb's Competition ID for the World Cup\n",
        "- `season_id = 3` - StatsBomb's Season ID for the 2018 Season"
      ]
    },
    {
      "cell_type": "code",
      "execution_count": 34,
      "metadata": {
        "id": "1ZnaIvM0fHDH",
        "outputId": "116359d7-5f71-4e19-f1e3-701f594f2730"
      },
      "outputs": [
        {
          "name": "stderr",
          "output_type": "stream",
          "text": [
            "100%|██████████| 36/36 [01:04<00:00,  1.78s/it]\n"
          ]
        }
      ],
      "source": [
        "df = parse_data(competition_id, season_id) #11,1 2017/2018"
      ]
    },
    {
      "cell_type": "code",
      "execution_count": 36,
      "metadata": {},
      "outputs": [
        {
          "name": "stderr",
          "output_type": "stream",
          "text": [
            "100%|██████████| 34/34 [01:28<00:00,  2.61s/it]\n"
          ]
        }
      ],
      "source": [
        "df1 = parse_data(11,4) #2018/2019"
      ]
    },
    {
      "cell_type": "code",
      "execution_count": 37,
      "metadata": {},
      "outputs": [
        {
          "name": "stderr",
          "output_type": "stream",
          "text": [
            "100%|██████████| 34/34 [00:56<00:00,  1.65s/it]\n"
          ]
        }
      ],
      "source": [
        "df2 = parse_data(11,2) #2016/2017"
      ]
    },
    {
      "cell_type": "code",
      "execution_count": 38,
      "metadata": {},
      "outputs": [
        {
          "name": "stderr",
          "output_type": "stream",
          "text": [
            "100%|██████████| 33/33 [00:47<00:00,  1.44s/it]\n"
          ]
        }
      ],
      "source": [
        "df3 = parse_data(11,27) #2015/2016"
      ]
    },
    {
      "cell_type": "code",
      "execution_count": 39,
      "metadata": {},
      "outputs": [
        {
          "name": "stderr",
          "output_type": "stream",
          "text": [
            "100%|██████████| 38/38 [00:49<00:00,  1.30s/it]\n"
          ]
        }
      ],
      "source": [
        "df4 = parse_data(11,26) #2014/2015"
      ]
    },
    {
      "cell_type": "markdown",
      "metadata": {
        "id": "S-zuPur-fHDJ"
      },
      "source": [
        "The `parse_data` function is executed, and it's output is placed in variable `df`\n",
        "\n",
        "The progress bar is produced by `tqdm`\n",
        "\n",
        "---"
      ]
    },
    {
      "cell_type": "code",
      "execution_count": 40,
      "metadata": {
        "id": "6Q-eBnFifHDJ",
        "outputId": "aa6f69c9-fb10-426d-d925-6e8b4d871c4b"
      },
      "outputs": [],
      "source": [
        "li = [df1,df,df2,df3,df4]\n",
        "laligadf = pd.concat(li)\n"
      ]
    },
    {
      "cell_type": "code",
      "execution_count": 43,
      "metadata": {},
      "outputs": [],
      "source": [
        "laligadf.to_pickle('unmodifiedlaliga')"
      ]
    },
    {
      "cell_type": "code",
      "execution_count": 88,
      "metadata": {},
      "outputs": [
        {
          "ename": "KeyError",
          "evalue": "'[15998 15998 15998 ... 266142 266142 266142] not found in axis'",
          "output_type": "error",
          "traceback": [
            "\u001b[0;31m---------------------------------------------------------------------------\u001b[0m",
            "\u001b[0;31mKeyError\u001b[0m                                  Traceback (most recent call last)",
            "\u001b[0;32m/var/folders/lq/43nmsszn7jj8zr58hhw9fzkm0000gn/T/ipykernel_21964/802204474.py\u001b[0m in \u001b[0;36m<module>\u001b[0;34m\u001b[0m\n\u001b[1;32m      8\u001b[0m \u001b[0mlaligadf\u001b[0m\u001b[0;34m=\u001b[0m\u001b[0mpd\u001b[0m\u001b[0;34m.\u001b[0m\u001b[0mget_dummies\u001b[0m\u001b[0;34m(\u001b[0m\u001b[0mlaligadf\u001b[0m\u001b[0;34m)\u001b[0m\u001b[0;34m\u001b[0m\u001b[0;34m\u001b[0m\u001b[0m\n\u001b[1;32m      9\u001b[0m \u001b[0ma\u001b[0m \u001b[0;34m=\u001b[0m \u001b[0mpd\u001b[0m\u001b[0;34m.\u001b[0m\u001b[0mget_dummies\u001b[0m\u001b[0;34m(\u001b[0m\u001b[0mlaligadf\u001b[0m\u001b[0;34m[\u001b[0m\u001b[0;34m'match_id'\u001b[0m\u001b[0;34m]\u001b[0m\u001b[0;34m)\u001b[0m\u001b[0;34m\u001b[0m\u001b[0;34m\u001b[0m\u001b[0m\n\u001b[0;32m---> 10\u001b[0;31m \u001b[0mlaligadf\u001b[0m\u001b[0;34m.\u001b[0m\u001b[0mdrop\u001b[0m\u001b[0;34m(\u001b[0m\u001b[0mlaligadf\u001b[0m\u001b[0;34m[\u001b[0m\u001b[0;34m'match_id'\u001b[0m\u001b[0;34m]\u001b[0m\u001b[0;34m)\u001b[0m\u001b[0;34m\u001b[0m\u001b[0;34m\u001b[0m\u001b[0m\n\u001b[0m\u001b[1;32m     11\u001b[0m \u001b[0mlaligamod\u001b[0m \u001b[0;34m=\u001b[0m \u001b[0ma\u001b[0m\u001b[0;34m.\u001b[0m\u001b[0mappend\u001b[0m\u001b[0;34m(\u001b[0m\u001b[0mlaligadf\u001b[0m\u001b[0;34m,\u001b[0m\u001b[0maxis\u001b[0m\u001b[0;34m=\u001b[0m\u001b[0;36m1\u001b[0m\u001b[0;34m)\u001b[0m\u001b[0;34m\u001b[0m\u001b[0;34m\u001b[0m\u001b[0m\n\u001b[1;32m     12\u001b[0m \u001b[0mlaligamod\u001b[0m\u001b[0;34m\u001b[0m\u001b[0;34m\u001b[0m\u001b[0m\n",
            "\u001b[0;32m~/opt/anaconda3/lib/python3.8/site-packages/pandas/util/_decorators.py\u001b[0m in \u001b[0;36mwrapper\u001b[0;34m(*args, **kwargs)\u001b[0m\n\u001b[1;32m    309\u001b[0m                     \u001b[0mstacklevel\u001b[0m\u001b[0;34m=\u001b[0m\u001b[0mstacklevel\u001b[0m\u001b[0;34m,\u001b[0m\u001b[0;34m\u001b[0m\u001b[0;34m\u001b[0m\u001b[0m\n\u001b[1;32m    310\u001b[0m                 )\n\u001b[0;32m--> 311\u001b[0;31m             \u001b[0;32mreturn\u001b[0m \u001b[0mfunc\u001b[0m\u001b[0;34m(\u001b[0m\u001b[0;34m*\u001b[0m\u001b[0margs\u001b[0m\u001b[0;34m,\u001b[0m \u001b[0;34m**\u001b[0m\u001b[0mkwargs\u001b[0m\u001b[0;34m)\u001b[0m\u001b[0;34m\u001b[0m\u001b[0;34m\u001b[0m\u001b[0m\n\u001b[0m\u001b[1;32m    312\u001b[0m \u001b[0;34m\u001b[0m\u001b[0m\n\u001b[1;32m    313\u001b[0m         \u001b[0;32mreturn\u001b[0m \u001b[0mwrapper\u001b[0m\u001b[0;34m\u001b[0m\u001b[0;34m\u001b[0m\u001b[0m\n",
            "\u001b[0;32m~/opt/anaconda3/lib/python3.8/site-packages/pandas/core/frame.py\u001b[0m in \u001b[0;36mdrop\u001b[0;34m(self, labels, axis, index, columns, level, inplace, errors)\u001b[0m\n\u001b[1;32m   4904\u001b[0m                 \u001b[0mweight\u001b[0m  \u001b[0;36m1.0\u001b[0m     \u001b[0;36m0.8\u001b[0m\u001b[0;34m\u001b[0m\u001b[0;34m\u001b[0m\u001b[0m\n\u001b[1;32m   4905\u001b[0m         \"\"\"\n\u001b[0;32m-> 4906\u001b[0;31m         return super().drop(\n\u001b[0m\u001b[1;32m   4907\u001b[0m             \u001b[0mlabels\u001b[0m\u001b[0;34m=\u001b[0m\u001b[0mlabels\u001b[0m\u001b[0;34m,\u001b[0m\u001b[0;34m\u001b[0m\u001b[0;34m\u001b[0m\u001b[0m\n\u001b[1;32m   4908\u001b[0m             \u001b[0maxis\u001b[0m\u001b[0;34m=\u001b[0m\u001b[0maxis\u001b[0m\u001b[0;34m,\u001b[0m\u001b[0;34m\u001b[0m\u001b[0;34m\u001b[0m\u001b[0m\n",
            "\u001b[0;32m~/opt/anaconda3/lib/python3.8/site-packages/pandas/core/generic.py\u001b[0m in \u001b[0;36mdrop\u001b[0;34m(self, labels, axis, index, columns, level, inplace, errors)\u001b[0m\n\u001b[1;32m   4148\u001b[0m         \u001b[0;32mfor\u001b[0m \u001b[0maxis\u001b[0m\u001b[0;34m,\u001b[0m \u001b[0mlabels\u001b[0m \u001b[0;32min\u001b[0m \u001b[0maxes\u001b[0m\u001b[0;34m.\u001b[0m\u001b[0mitems\u001b[0m\u001b[0;34m(\u001b[0m\u001b[0;34m)\u001b[0m\u001b[0;34m:\u001b[0m\u001b[0;34m\u001b[0m\u001b[0;34m\u001b[0m\u001b[0m\n\u001b[1;32m   4149\u001b[0m             \u001b[0;32mif\u001b[0m \u001b[0mlabels\u001b[0m \u001b[0;32mis\u001b[0m \u001b[0;32mnot\u001b[0m \u001b[0;32mNone\u001b[0m\u001b[0;34m:\u001b[0m\u001b[0;34m\u001b[0m\u001b[0;34m\u001b[0m\u001b[0m\n\u001b[0;32m-> 4150\u001b[0;31m                 \u001b[0mobj\u001b[0m \u001b[0;34m=\u001b[0m \u001b[0mobj\u001b[0m\u001b[0;34m.\u001b[0m\u001b[0m_drop_axis\u001b[0m\u001b[0;34m(\u001b[0m\u001b[0mlabels\u001b[0m\u001b[0;34m,\u001b[0m \u001b[0maxis\u001b[0m\u001b[0;34m,\u001b[0m \u001b[0mlevel\u001b[0m\u001b[0;34m=\u001b[0m\u001b[0mlevel\u001b[0m\u001b[0;34m,\u001b[0m \u001b[0merrors\u001b[0m\u001b[0;34m=\u001b[0m\u001b[0merrors\u001b[0m\u001b[0;34m)\u001b[0m\u001b[0;34m\u001b[0m\u001b[0;34m\u001b[0m\u001b[0m\n\u001b[0m\u001b[1;32m   4151\u001b[0m \u001b[0;34m\u001b[0m\u001b[0m\n\u001b[1;32m   4152\u001b[0m         \u001b[0;32mif\u001b[0m \u001b[0minplace\u001b[0m\u001b[0;34m:\u001b[0m\u001b[0;34m\u001b[0m\u001b[0;34m\u001b[0m\u001b[0m\n",
            "\u001b[0;32m~/opt/anaconda3/lib/python3.8/site-packages/pandas/core/generic.py\u001b[0m in \u001b[0;36m_drop_axis\u001b[0;34m(self, labels, axis, level, errors)\u001b[0m\n\u001b[1;32m   4212\u001b[0m                 \u001b[0mlabels_missing\u001b[0m \u001b[0;34m=\u001b[0m \u001b[0;34m(\u001b[0m\u001b[0maxis\u001b[0m\u001b[0;34m.\u001b[0m\u001b[0mget_indexer_for\u001b[0m\u001b[0;34m(\u001b[0m\u001b[0mlabels\u001b[0m\u001b[0;34m)\u001b[0m \u001b[0;34m==\u001b[0m \u001b[0;34m-\u001b[0m\u001b[0;36m1\u001b[0m\u001b[0;34m)\u001b[0m\u001b[0;34m.\u001b[0m\u001b[0many\u001b[0m\u001b[0;34m(\u001b[0m\u001b[0;34m)\u001b[0m\u001b[0;34m\u001b[0m\u001b[0;34m\u001b[0m\u001b[0m\n\u001b[1;32m   4213\u001b[0m                 \u001b[0;32mif\u001b[0m \u001b[0merrors\u001b[0m \u001b[0;34m==\u001b[0m \u001b[0;34m\"raise\"\u001b[0m \u001b[0;32mand\u001b[0m \u001b[0mlabels_missing\u001b[0m\u001b[0;34m:\u001b[0m\u001b[0;34m\u001b[0m\u001b[0;34m\u001b[0m\u001b[0m\n\u001b[0;32m-> 4214\u001b[0;31m                     \u001b[0;32mraise\u001b[0m \u001b[0mKeyError\u001b[0m\u001b[0;34m(\u001b[0m\u001b[0;34mf\"{labels} not found in axis\"\u001b[0m\u001b[0;34m)\u001b[0m\u001b[0;34m\u001b[0m\u001b[0;34m\u001b[0m\u001b[0m\n\u001b[0m\u001b[1;32m   4215\u001b[0m \u001b[0;34m\u001b[0m\u001b[0m\n\u001b[1;32m   4216\u001b[0m             \u001b[0mslicer\u001b[0m \u001b[0;34m=\u001b[0m \u001b[0;34m[\u001b[0m\u001b[0mslice\u001b[0m\u001b[0;34m(\u001b[0m\u001b[0;32mNone\u001b[0m\u001b[0;34m)\u001b[0m\u001b[0;34m]\u001b[0m \u001b[0;34m*\u001b[0m \u001b[0mself\u001b[0m\u001b[0;34m.\u001b[0m\u001b[0mndim\u001b[0m\u001b[0;34m\u001b[0m\u001b[0;34m\u001b[0m\u001b[0m\n",
            "\u001b[0;31mKeyError\u001b[0m: '[15998 15998 15998 ... 266142 266142 266142] not found in axis'"
          ]
        }
      ],
      "source": [
        "laligadf = pd.read_pickle('unmodifiedlaliga')\n",
        "laligadf['outcome']=laligadf['outcome'].apply(lambda x: 1 if x=='Goal' else 0)\n",
        "laligadf['aerial_won']=laligadf['aerial_won'].apply(lambda x: 1 if x==True else 0)\n",
        "laligadf['follows_dribble']=laligadf['follows_dribble'].apply(lambda x: 1 if x==True else 0)\n",
        "laligadf['first_time']=laligadf['first_time'].apply(lambda x: 1 if x==True else 0)\n",
        "laligadf['open_goal']=laligadf['open_goal'].apply(lambda x: 1 if x==True else 0)\n",
        "laligadf['deflected']=laligadf['deflected'].apply(lambda x: 1 if x==True else 0)\n",
        "laligadf=pd.get_dummies(laligadf)\n",
        "a = pd.get_dummies(laligadf['match_id'])\n",
        "laligadf.drop(laligadf['match_id'])\n",
        "laligamod = a.append(laligadf,axis=1)\n",
        "laligamod\n"
      ]
    },
    {
      "cell_type": "code",
      "execution_count": null,
      "metadata": {},
      "outputs": [],
      "source": [
        "y=laligadf['outcome']\n",
        "X=laligadf[:, df.columns!='outcome']\n",
        "X_train, X_test, y_train, y_test = train_test_split(X, y, random_state=123, test_size=0.15, \n",
        "                                                    shuffle=True, stratify=y)"
      ]
    },
    {
      "cell_type": "markdown",
      "metadata": {
        "id": "Y_jzb_u8fHDK"
      },
      "source": [
        "The `.head(10)` method on a DataFrame object shows you the first 10 records in the DataFrame.\n",
        "\n",
        "There are roughly `1700` shots in this DataFrame, which represent every shot attempted at the 2018 Men's World Cup."
      ]
    },
    {
      "cell_type": "markdown",
      "metadata": {
        "id": "-A5XHr5NfHDK"
      },
      "source": [
        "---\n",
        "\n",
        "Devin Pleuler 2020"
      ]
    }
  ],
  "metadata": {
    "colab": {
      "name": "data_extraction_and_transformation.ipynb",
      "provenance": []
    },
    "interpreter": {
      "hash": "aee8b7b246df8f9039afb4144a1f6fd8d2ca17a180786b69acc140d282b71a49"
    },
    "kernelspec": {
      "display_name": "Python 3.9.7 64-bit",
      "name": "python3"
    },
    "language_info": {
      "codemirror_mode": {
        "name": "ipython",
        "version": 3
      },
      "file_extension": ".py",
      "mimetype": "text/x-python",
      "name": "python",
      "nbconvert_exporter": "python",
      "pygments_lexer": "ipython3",
      "version": "3.8.12"
    }
  },
  "nbformat": 4,
  "nbformat_minor": 0
}
