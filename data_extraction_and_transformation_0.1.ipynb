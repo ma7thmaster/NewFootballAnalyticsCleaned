{
  "cells": [
    {
      "cell_type": "markdown",
      "metadata": {
        "id": "c8yCb5m0fHC0"
      },
      "source": [
        "# Data Extraction & Transformation\n",
        "\n",
        "##### Parsing raw StatsBomb data and storing it in a Pandas DataFrame\n",
        "\n",
        "---"
      ]
    },
    {
      "cell_type": "code",
      "execution_count": 29,
      "metadata": {
        "id": "ctM4C02sfHC7"
      },
      "outputs": [],
      "source": [
        "import requests\n",
        "import pandas as pd\n",
        "from tqdm import tqdm\n",
        "from sklearn.preprocessing import OneHotEncoder\n",
        "from statsbombpy import sb"
      ]
    },
    {
      "cell_type": "markdown",
      "metadata": {
        "id": "MJuFvXM_fHDB"
      },
      "source": [
        "- `requests` is a great library for executing HTTP requests\n",
        "- `pandas` is a data analysis and manipulation package\n",
        "- `tqdm` is a clean progress bar library\n",
        "\n",
        "---"
      ]
    },
    {
      "cell_type": "code",
      "execution_count": 2,
      "metadata": {
        "id": "xokzTlW4fHDC"
      },
      "outputs": [],
      "source": [
        "base_url = \"https://raw.githubusercontent.com/statsbomb/open-data/master/data/\"\n",
        "comp_url = base_url + \"matches/{}/{}.json\"\n",
        "match_url = base_url + \"events/{}.json\""
      ]
    },
    {
      "cell_type": "markdown",
      "metadata": {
        "id": "cjC0K0YTfHDD"
      },
      "source": [
        "These URLs are the locations where the raw StatsBomb data lives. Notice the `{}` in there, which are dynamically replaced with IDs with `.format()`\n",
        "\n",
        "___"
      ]
    },
    {
      "cell_type": "code",
      "execution_count": 4,
      "metadata": {
        "id": "sENhtOaDfHDD"
      },
      "outputs": [],
      "source": [
        "def parse_data(competition_id, season_id):\n",
        "    matches = requests.get(url=comp_url.format(competition_id, season_id)).json()\n",
        "    match_ids = [m['match_id'] for m in matches]\n",
        "\n",
        "    all_events = []\n",
        "    for match_id in tqdm(match_ids):\n",
        "\n",
        "        events = requests.get(url=match_url.format(match_id)).json()\n",
        "\n",
        "        shots = [x for x in events if x['type']['name'] == \"Shot\"]\n",
        "        for s in shots:\n",
        "            try:\n",
        "                aerial_won_t = s['shot']['aerial_won']\n",
        "            except KeyError:\n",
        "                aerial_won_t = False\n",
        "\n",
        "            try:\n",
        "                follows_dribble_t = s['shot']['follows_dribble']\n",
        "            except KeyError:\n",
        "                follows_dribble_t = False\n",
        "            \n",
        "            try:\n",
        "                first_time_t = s['shot']['first_time']\n",
        "            except KeyError:\n",
        "                first_time_t = False\n",
        "\n",
        "            try:\n",
        "                open_goal_t = s['shot']['open_goal']\n",
        "            except KeyError:\n",
        "                open_goal_t = False\n",
        "\n",
        "            try:\n",
        "                deflected_t = s['shot']['deflected']\n",
        "            except KeyError:\n",
        "                deflected_t = False\n",
        "            \n",
        "\n",
        "            attributes = {\n",
        "                \"match_id\": match_id,\n",
        "                \"team\": s[\"possession_team\"][\"name\"],\n",
        "                \"player\": s['player']['name'],\n",
        "                \"x\": s['location'][0],\n",
        "                \"y\": s['location'][1],\n",
        "                \n",
        "                \"type\": s['shot']['type']['name'],\n",
        "                \n",
        "                \"end_x\": s['shot']['end_location'][0],\n",
        "                \"end_y\": s['shot']['end_location'][1],\n",
        "                \n",
        "                \"technique\": s['shot']['technique']['name'],\n",
        "                \n",
        "                \n",
        "                \"aerial_won\": aerial_won_t,\n",
        "\n",
        "                \"follows_dribble\": follows_dribble_t,\n",
        "\n",
        "                \"first_time\": first_time_t,\n",
        "\n",
        "                \"open_goal\": open_goal_t,\n",
        "\n",
        "                \"deflected\": deflected_t,\n",
        "\n",
        "                \"xg\": s['shot']['statsbomb_xg'],\n",
        "\n",
        "\n",
        "\n",
        "                \"outcome\": s['shot']['outcome']['name']\n",
        "                \n",
        "            }\n",
        "            all_events.append(attributes)\n",
        "            \n",
        "    return pd.DataFrame(all_events)"
      ]
    },
    {
      "cell_type": "markdown",
      "metadata": {
        "id": "9CKiSqJ7fHDE"
      },
      "source": [
        "The `parse_data` function handles the full Extract & Transform process.\n",
        "\n",
        "The sequence of events is this:\n",
        "1. The list of matches is loaded into the `matches` list.\n",
        "2. Match IDs are extracted into a separate list using a list comprehension on `matches`.\n",
        "3. Iterate over Match ID's, and load each match's raw data into the `events` list.\n",
        "4. Shots are extracted into a separate list using a list comprehension as a filter on `events`.\n",
        "5. Iterate over shots and extract individual features and store them in the `attributes` dictionary.\n",
        "6. Append each shot's `attributes` into the `all_events` list.\n",
        "7. Return a Pandas DataFrame from the `all_events` list.\n",
        "\n",
        "---"
      ]
    },
    {
      "cell_type": "code",
      "execution_count": 33,
      "metadata": {
        "id": "mVQGr1GhfHDF"
      },
      "outputs": [],
      "source": [
        "competition_id = 11\n",
        "season_id = 1"
      ]
    },
    {
      "cell_type": "markdown",
      "metadata": {
        "id": "dAHM_5kNfHDG"
      },
      "source": [
        "- `competition_id = 43` - StatsBomb's Competition ID for the World Cup\n",
        "- `season_id = 3` - StatsBomb's Season ID for the 2018 Season"
      ]
    },
    {
      "cell_type": "code",
      "execution_count": 34,
      "metadata": {
        "id": "1ZnaIvM0fHDH",
        "outputId": "116359d7-5f71-4e19-f1e3-701f594f2730"
      },
      "outputs": [
        {
          "name": "stderr",
          "output_type": "stream",
          "text": [
            "100%|██████████| 36/36 [01:04<00:00,  1.78s/it]\n"
          ]
        }
      ],
      "source": [
        "df = parse_data(competition_id, season_id) #11,1 2017/2018"
      ]
    },
    {
      "cell_type": "code",
      "execution_count": 36,
      "metadata": {},
      "outputs": [
        {
          "name": "stderr",
          "output_type": "stream",
          "text": [
            "100%|██████████| 34/34 [01:28<00:00,  2.61s/it]\n"
          ]
        }
      ],
      "source": [
        "df1 = parse_data(11,4) #2018/2019"
      ]
    },
    {
      "cell_type": "code",
      "execution_count": 37,
      "metadata": {},
      "outputs": [
        {
          "name": "stderr",
          "output_type": "stream",
          "text": [
            "100%|██████████| 34/34 [00:56<00:00,  1.65s/it]\n"
          ]
        }
      ],
      "source": [
        "df2 = parse_data(11,2) #2016/2017"
      ]
    },
    {
      "cell_type": "code",
      "execution_count": 38,
      "metadata": {},
      "outputs": [
        {
          "name": "stderr",
          "output_type": "stream",
          "text": [
            "100%|██████████| 33/33 [00:47<00:00,  1.44s/it]\n"
          ]
        }
      ],
      "source": [
        "df3 = parse_data(11,27) #2015/2016"
      ]
    },
    {
      "cell_type": "code",
      "execution_count": 39,
      "metadata": {},
      "outputs": [
        {
          "name": "stderr",
          "output_type": "stream",
          "text": [
            "100%|██████████| 38/38 [00:49<00:00,  1.30s/it]\n"
          ]
        }
      ],
      "source": [
        "df4 = parse_data(11,26) #2014/2015"
      ]
    },
    {
      "cell_type": "markdown",
      "metadata": {
        "id": "S-zuPur-fHDJ"
      },
      "source": [
        "The `parse_data` function is executed, and it's output is placed in variable `df`\n",
        "\n",
        "The progress bar is produced by `tqdm`\n",
        "\n",
        "---"
      ]
    },
    {
      "cell_type": "code",
      "execution_count": 40,
      "metadata": {
        "id": "6Q-eBnFifHDJ",
        "outputId": "aa6f69c9-fb10-426d-d925-6e8b4d871c4b"
      },
      "outputs": [],
      "source": [
        "li = [df1,df,df2,df3,df4]\n",
        "laligadf = pd.concat(li)\n"
      ]
    },
    {
      "cell_type": "code",
      "execution_count": 42,
      "metadata": {},
      "outputs": [
        {
          "data": {
            "text/html": [
              "<div>\n",
              "<style scoped>\n",
              "    .dataframe tbody tr th:only-of-type {\n",
              "        vertical-align: middle;\n",
              "    }\n",
              "\n",
              "    .dataframe tbody tr th {\n",
              "        vertical-align: top;\n",
              "    }\n",
              "\n",
              "    .dataframe thead th {\n",
              "        text-align: right;\n",
              "    }\n",
              "</style>\n",
              "<table border=\"1\" class=\"dataframe\">\n",
              "  <thead>\n",
              "    <tr style=\"text-align: right;\">\n",
              "      <th></th>\n",
              "      <th>match_id</th>\n",
              "      <th>team</th>\n",
              "      <th>player</th>\n",
              "      <th>x</th>\n",
              "      <th>y</th>\n",
              "      <th>type</th>\n",
              "      <th>end_x</th>\n",
              "      <th>end_y</th>\n",
              "      <th>technique</th>\n",
              "      <th>aerial_won</th>\n",
              "      <th>follows_dribble</th>\n",
              "      <th>first_time</th>\n",
              "      <th>open_goal</th>\n",
              "      <th>deflected</th>\n",
              "      <th>xg</th>\n",
              "      <th>outcome</th>\n",
              "    </tr>\n",
              "  </thead>\n",
              "  <tbody>\n",
              "    <tr>\n",
              "      <th>0</th>\n",
              "      <td>15998</td>\n",
              "      <td>Barcelona</td>\n",
              "      <td>Ousmane Dembélé</td>\n",
              "      <td>100.0</td>\n",
              "      <td>19.0</td>\n",
              "      <td>Open Play</td>\n",
              "      <td>120.0</td>\n",
              "      <td>35.1</td>\n",
              "      <td>Normal</td>\n",
              "      <td>False</td>\n",
              "      <td>False</td>\n",
              "      <td>False</td>\n",
              "      <td>False</td>\n",
              "      <td>False</td>\n",
              "      <td>0.023989</td>\n",
              "      <td>Off T</td>\n",
              "    </tr>\n",
              "    <tr>\n",
              "      <th>1</th>\n",
              "      <td>15998</td>\n",
              "      <td>Leganés</td>\n",
              "      <td>Youssef En-Nesyri</td>\n",
              "      <td>107.1</td>\n",
              "      <td>38.1</td>\n",
              "      <td>Open Play</td>\n",
              "      <td>119.7</td>\n",
              "      <td>28.4</td>\n",
              "      <td>Normal</td>\n",
              "      <td>False</td>\n",
              "      <td>False</td>\n",
              "      <td>False</td>\n",
              "      <td>False</td>\n",
              "      <td>False</td>\n",
              "      <td>0.041484</td>\n",
              "      <td>Wayward</td>\n",
              "    </tr>\n",
              "    <tr>\n",
              "      <th>2</th>\n",
              "      <td>15998</td>\n",
              "      <td>Barcelona</td>\n",
              "      <td>Philippe Coutinho Correia</td>\n",
              "      <td>98.1</td>\n",
              "      <td>38.5</td>\n",
              "      <td>Open Play</td>\n",
              "      <td>120.0</td>\n",
              "      <td>42.8</td>\n",
              "      <td>Half Volley</td>\n",
              "      <td>False</td>\n",
              "      <td>False</td>\n",
              "      <td>False</td>\n",
              "      <td>False</td>\n",
              "      <td>False</td>\n",
              "      <td>0.081991</td>\n",
              "      <td>Goal</td>\n",
              "    </tr>\n",
              "    <tr>\n",
              "      <th>3</th>\n",
              "      <td>15998</td>\n",
              "      <td>Barcelona</td>\n",
              "      <td>Lionel Andrés Messi Cuccittini</td>\n",
              "      <td>95.8</td>\n",
              "      <td>42.0</td>\n",
              "      <td>Open Play</td>\n",
              "      <td>120.0</td>\n",
              "      <td>35.9</td>\n",
              "      <td>Normal</td>\n",
              "      <td>False</td>\n",
              "      <td>False</td>\n",
              "      <td>False</td>\n",
              "      <td>False</td>\n",
              "      <td>False</td>\n",
              "      <td>0.048502</td>\n",
              "      <td>Post</td>\n",
              "    </tr>\n",
              "    <tr>\n",
              "      <th>4</th>\n",
              "      <td>15998</td>\n",
              "      <td>Barcelona</td>\n",
              "      <td>Lionel Andrés Messi Cuccittini</td>\n",
              "      <td>100.4</td>\n",
              "      <td>41.6</td>\n",
              "      <td>Open Play</td>\n",
              "      <td>118.1</td>\n",
              "      <td>39.1</td>\n",
              "      <td>Normal</td>\n",
              "      <td>False</td>\n",
              "      <td>False</td>\n",
              "      <td>True</td>\n",
              "      <td>False</td>\n",
              "      <td>False</td>\n",
              "      <td>0.115020</td>\n",
              "      <td>Saved</td>\n",
              "    </tr>\n",
              "    <tr>\n",
              "      <th>...</th>\n",
              "      <td>...</td>\n",
              "      <td>...</td>\n",
              "      <td>...</td>\n",
              "      <td>...</td>\n",
              "      <td>...</td>\n",
              "      <td>...</td>\n",
              "      <td>...</td>\n",
              "      <td>...</td>\n",
              "      <td>...</td>\n",
              "      <td>...</td>\n",
              "      <td>...</td>\n",
              "      <td>...</td>\n",
              "      <td>...</td>\n",
              "      <td>...</td>\n",
              "      <td>...</td>\n",
              "      <td>...</td>\n",
              "    </tr>\n",
              "    <tr>\n",
              "      <th>880</th>\n",
              "      <td>16231</td>\n",
              "      <td>Barcelona</td>\n",
              "      <td>Philippe Coutinho Correia</td>\n",
              "      <td>104.2</td>\n",
              "      <td>29.9</td>\n",
              "      <td>Open Play</td>\n",
              "      <td>120.0</td>\n",
              "      <td>38.6</td>\n",
              "      <td>Normal</td>\n",
              "      <td>False</td>\n",
              "      <td>False</td>\n",
              "      <td>True</td>\n",
              "      <td>False</td>\n",
              "      <td>False</td>\n",
              "      <td>0.074868</td>\n",
              "      <td>Off T</td>\n",
              "    </tr>\n",
              "    <tr>\n",
              "      <th>881</th>\n",
              "      <td>16231</td>\n",
              "      <td>Barcelona</td>\n",
              "      <td>Lionel Andrés Messi Cuccittini</td>\n",
              "      <td>101.4</td>\n",
              "      <td>44.2</td>\n",
              "      <td>Free Kick</td>\n",
              "      <td>120.0</td>\n",
              "      <td>39.8</td>\n",
              "      <td>Normal</td>\n",
              "      <td>False</td>\n",
              "      <td>False</td>\n",
              "      <td>False</td>\n",
              "      <td>False</td>\n",
              "      <td>True</td>\n",
              "      <td>0.126364</td>\n",
              "      <td>Goal</td>\n",
              "    </tr>\n",
              "    <tr>\n",
              "      <th>882</th>\n",
              "      <td>16231</td>\n",
              "      <td>Barcelona</td>\n",
              "      <td>Lionel Andrés Messi Cuccittini</td>\n",
              "      <td>103.2</td>\n",
              "      <td>32.4</td>\n",
              "      <td>Open Play</td>\n",
              "      <td>120.0</td>\n",
              "      <td>32.8</td>\n",
              "      <td>Normal</td>\n",
              "      <td>False</td>\n",
              "      <td>False</td>\n",
              "      <td>True</td>\n",
              "      <td>False</td>\n",
              "      <td>False</td>\n",
              "      <td>0.083843</td>\n",
              "      <td>Off T</td>\n",
              "    </tr>\n",
              "    <tr>\n",
              "      <th>883</th>\n",
              "      <td>16231</td>\n",
              "      <td>Barcelona</td>\n",
              "      <td>Lionel Andrés Messi Cuccittini</td>\n",
              "      <td>108.1</td>\n",
              "      <td>36.1</td>\n",
              "      <td>Open Play</td>\n",
              "      <td>120.0</td>\n",
              "      <td>41.5</td>\n",
              "      <td>Normal</td>\n",
              "      <td>False</td>\n",
              "      <td>False</td>\n",
              "      <td>True</td>\n",
              "      <td>False</td>\n",
              "      <td>False</td>\n",
              "      <td>0.171852</td>\n",
              "      <td>Goal</td>\n",
              "    </tr>\n",
              "    <tr>\n",
              "      <th>884</th>\n",
              "      <td>16231</td>\n",
              "      <td>Espanyol</td>\n",
              "      <td>Esteban Félix Granero Molina</td>\n",
              "      <td>98.6</td>\n",
              "      <td>23.2</td>\n",
              "      <td>Free Kick</td>\n",
              "      <td>105.9</td>\n",
              "      <td>28.2</td>\n",
              "      <td>Normal</td>\n",
              "      <td>False</td>\n",
              "      <td>False</td>\n",
              "      <td>False</td>\n",
              "      <td>False</td>\n",
              "      <td>False</td>\n",
              "      <td>0.047512</td>\n",
              "      <td>Blocked</td>\n",
              "    </tr>\n",
              "  </tbody>\n",
              "</table>\n",
              "<p>885 rows × 16 columns</p>\n",
              "</div>"
            ],
            "text/plain": [
              "     match_id       team                          player      x     y  \\\n",
              "0       15998  Barcelona                 Ousmane Dembélé  100.0  19.0   \n",
              "1       15998    Leganés               Youssef En-Nesyri  107.1  38.1   \n",
              "2       15998  Barcelona       Philippe Coutinho Correia   98.1  38.5   \n",
              "3       15998  Barcelona  Lionel Andrés Messi Cuccittini   95.8  42.0   \n",
              "4       15998  Barcelona  Lionel Andrés Messi Cuccittini  100.4  41.6   \n",
              "..        ...        ...                             ...    ...   ...   \n",
              "880     16231  Barcelona       Philippe Coutinho Correia  104.2  29.9   \n",
              "881     16231  Barcelona  Lionel Andrés Messi Cuccittini  101.4  44.2   \n",
              "882     16231  Barcelona  Lionel Andrés Messi Cuccittini  103.2  32.4   \n",
              "883     16231  Barcelona  Lionel Andrés Messi Cuccittini  108.1  36.1   \n",
              "884     16231   Espanyol    Esteban Félix Granero Molina   98.6  23.2   \n",
              "\n",
              "          type  end_x  end_y    technique  aerial_won  follows_dribble  \\\n",
              "0    Open Play  120.0   35.1       Normal       False            False   \n",
              "1    Open Play  119.7   28.4       Normal       False            False   \n",
              "2    Open Play  120.0   42.8  Half Volley       False            False   \n",
              "3    Open Play  120.0   35.9       Normal       False            False   \n",
              "4    Open Play  118.1   39.1       Normal       False            False   \n",
              "..         ...    ...    ...          ...         ...              ...   \n",
              "880  Open Play  120.0   38.6       Normal       False            False   \n",
              "881  Free Kick  120.0   39.8       Normal       False            False   \n",
              "882  Open Play  120.0   32.8       Normal       False            False   \n",
              "883  Open Play  120.0   41.5       Normal       False            False   \n",
              "884  Free Kick  105.9   28.2       Normal       False            False   \n",
              "\n",
              "     first_time  open_goal  deflected        xg  outcome  \n",
              "0         False      False      False  0.023989    Off T  \n",
              "1         False      False      False  0.041484  Wayward  \n",
              "2         False      False      False  0.081991     Goal  \n",
              "3         False      False      False  0.048502     Post  \n",
              "4          True      False      False  0.115020    Saved  \n",
              "..          ...        ...        ...       ...      ...  \n",
              "880        True      False      False  0.074868    Off T  \n",
              "881       False      False       True  0.126364     Goal  \n",
              "882        True      False      False  0.083843    Off T  \n",
              "883        True      False      False  0.171852     Goal  \n",
              "884       False      False      False  0.047512  Blocked  \n",
              "\n",
              "[885 rows x 16 columns]"
            ]
          },
          "execution_count": 42,
          "metadata": {},
          "output_type": "execute_result"
        }
      ],
      "source": []
    },
    {
      "cell_type": "markdown",
      "metadata": {
        "id": "Y_jzb_u8fHDK"
      },
      "source": [
        "The `.head(10)` method on a DataFrame object shows you the first 10 records in the DataFrame.\n",
        "\n",
        "There are roughly `1700` shots in this DataFrame, which represent every shot attempted at the 2018 Men's World Cup."
      ]
    },
    {
      "cell_type": "markdown",
      "metadata": {
        "id": "-A5XHr5NfHDK"
      },
      "source": [
        "---\n",
        "\n",
        "Devin Pleuler 2020"
      ]
    }
  ],
  "metadata": {
    "colab": {
      "name": "data_extraction_and_transformation.ipynb",
      "provenance": []
    },
    "interpreter": {
      "hash": "aee8b7b246df8f9039afb4144a1f6fd8d2ca17a180786b69acc140d282b71a49"
    },
    "kernelspec": {
      "display_name": "Python 3.9.7 64-bit",
      "name": "python3"
    },
    "language_info": {
      "codemirror_mode": {
        "name": "ipython",
        "version": 3
      },
      "file_extension": ".py",
      "mimetype": "text/x-python",
      "name": "python",
      "nbconvert_exporter": "python",
      "pygments_lexer": "ipython3",
      "version": "3.8.12"
    }
  },
  "nbformat": 4,
  "nbformat_minor": 0
}
