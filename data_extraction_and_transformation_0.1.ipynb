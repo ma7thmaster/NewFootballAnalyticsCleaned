{
  "cells": [
    {
      "cell_type": "markdown",
      "metadata": {
        "id": "c8yCb5m0fHC0"
      },
      "source": [
        "# Data Extraction & Transformation\n",
        "\n",
        "##### Parsing raw StatsBomb data and storing it in a Pandas DataFrame\n",
        "\n",
        "---"
      ]
    },
    {
      "cell_type": "code",
      "execution_count": 34,
      "metadata": {
        "id": "ctM4C02sfHC7"
      },
      "outputs": [],
      "source": [
        "import requests\n",
        "import pandas as pd\n",
        "from tqdm import tqdm"
      ]
    },
    {
      "cell_type": "markdown",
      "metadata": {
        "id": "MJuFvXM_fHDB"
      },
      "source": [
        "- `requests` is a great library for executing HTTP requests\n",
        "- `pandas` is a data analysis and manipulation package\n",
        "- `tqdm` is a clean progress bar library\n",
        "\n",
        "---"
      ]
    },
    {
      "cell_type": "code",
      "execution_count": 35,
      "metadata": {
        "id": "xokzTlW4fHDC"
      },
      "outputs": [],
      "source": [
        "base_url = \"https://raw.githubusercontent.com/statsbomb/open-data/master/data/\"\n",
        "comp_url = base_url + \"matches/{}/{}.json\"\n",
        "match_url = base_url + \"events/{}.json\""
      ]
    },
    {
      "cell_type": "markdown",
      "metadata": {
        "id": "cjC0K0YTfHDD"
      },
      "source": [
        "These URLs are the locations where the raw StatsBomb data lives. Notice the `{}` in there, which are dynamically replaced with IDs with `.format()`\n",
        "\n",
        "___"
      ]
    },
    {
      "cell_type": "code",
      "execution_count": 36,
      "metadata": {
        "id": "sENhtOaDfHDD"
      },
      "outputs": [],
      "source": [
        "def parse_data(competition_id, season_id):\n",
        "    matches = requests.get(url=comp_url.format(competition_id, season_id)).json()\n",
        "    match_ids = [m['match_id'] for m in matches]\n",
        "\n",
        "    all_events = []\n",
        "    for match_id in tqdm(match_ids):\n",
        "\n",
        "        events = requests.get(url=match_url.format(match_id)).json()\n",
        "\n",
        "        shots = [x for x in events if x['type']['name'] == \"Shot\"]\n",
        "        for s in shots:\n",
        "            try:\n",
        "                aerial_won_t = s['shot']['aerial_won']\n",
        "            except KeyError:\n",
        "                aerial_won_t = False\n",
        "\n",
        "            try:\n",
        "                follows_dribble_t = s['shot']['follows_dribble']\n",
        "            except KeyError:\n",
        "                follows_dribble_t = False\n",
        "            \n",
        "            try:\n",
        "                first_time_t = s['shot']['first_time']\n",
        "            except KeyError:\n",
        "                first_time_t = False\n",
        "\n",
        "            try:\n",
        "                open_goal_t = s['shot']['open_goal']\n",
        "            except KeyError:\n",
        "                open_goal_t = False\n",
        "\n",
        "            try:\n",
        "                deflected_t = s['shot']['deflected']\n",
        "            except KeyError:\n",
        "                deflected_t = False\n",
        "            \n",
        "\n",
        "            attributes = {\n",
        "                \"match_id\": match_id,\n",
        "                \"team\": s[\"possession_team\"][\"name\"],\n",
        "                \"player\": s['player']['name'],\n",
        "                \"x\": s['location'][0],\n",
        "                \"y\": s['location'][1],\n",
        "                \n",
        "                \"type\": s['shot']['type']['name'],\n",
        "                \n",
        "                \"end_x\": s['shot']['end_location'][0],\n",
        "                \"end_y\": s['shot']['end_location'][1],\n",
        "                \n",
        "                \"technique\": s['shot']['technique']['name'],\n",
        "                \n",
        "                \n",
        "                \"aerial_won\": aerial_won_t,\n",
        "\n",
        "                \"follows_dribble\": follows_dribble_t,\n",
        "\n",
        "                \"first_time\": first_time_t,\n",
        "\n",
        "                \"open_goal\": open_goal_t,\n",
        "\n",
        "                \"deflected\": deflected_t,\n",
        "\n",
        "                \"xg\": s['shot']['statsbomb_xg'],\n",
        "\n",
        "\n",
        "\n",
        "                \"outcome\": s['shot']['outcome']['name']\n",
        "                \n",
        "            }\n",
        "            all_events.append(attributes)\n",
        "            \n",
        "    return pd.DataFrame(all_events)"
      ]
    },
    {
      "cell_type": "markdown",
      "metadata": {
        "id": "9CKiSqJ7fHDE"
      },
      "source": [
        "The `parse_data` function handles the full Extract & Transform process.\n",
        "\n",
        "The sequence of events is this:\n",
        "1. The list of matches is loaded into the `matches` list.\n",
        "2. Match IDs are extracted into a separate list using a list comprehension on `matches`.\n",
        "3. Iterate over Match ID's, and load each match's raw data into the `events` list.\n",
        "4. Shots are extracted into a separate list using a list comprehension as a filter on `events`.\n",
        "5. Iterate over shots and extract individual features and store them in the `attributes` dictionary.\n",
        "6. Append each shot's `attributes` into the `all_events` list.\n",
        "7. Return a Pandas DataFrame from the `all_events` list.\n",
        "\n",
        "---"
      ]
    },
    {
      "cell_type": "code",
      "execution_count": 37,
      "metadata": {
        "id": "mVQGr1GhfHDF"
      },
      "outputs": [],
      "source": [
        "competition_id = 43\n",
        "season_id = 3"
      ]
    },
    {
      "cell_type": "markdown",
      "metadata": {
        "id": "dAHM_5kNfHDG"
      },
      "source": [
        "- `competition_id = 43` - StatsBomb's Competition ID for the World Cup\n",
        "- `season_id = 3` - StatsBomb's Season ID for the 2018 Season"
      ]
    },
    {
      "cell_type": "code",
      "execution_count": 38,
      "metadata": {
        "id": "1ZnaIvM0fHDH",
        "outputId": "116359d7-5f71-4e19-f1e3-701f594f2730"
      },
      "outputs": [
        {
          "name": "stderr",
          "output_type": "stream",
          "text": [
            "100%|██████████| 64/64 [00:30<00:00,  2.11it/s]\n"
          ]
        }
      ],
      "source": [
        "df = parse_data(competition_id, season_id)"
      ]
    },
    {
      "cell_type": "markdown",
      "metadata": {
        "id": "S-zuPur-fHDJ"
      },
      "source": [
        "The `parse_data` function is executed, and it's output is placed in variable `df`\n",
        "\n",
        "The progress bar is produced by `tqdm`\n",
        "\n",
        "---"
      ]
    },
    {
      "cell_type": "code",
      "execution_count": 39,
      "metadata": {
        "id": "6Q-eBnFifHDJ",
        "outputId": "aa6f69c9-fb10-426d-d925-6e8b4d871c4b"
      },
      "outputs": [
        {
          "data": {
            "text/html": [
              "<div>\n",
              "<style scoped>\n",
              "    .dataframe tbody tr th:only-of-type {\n",
              "        vertical-align: middle;\n",
              "    }\n",
              "\n",
              "    .dataframe tbody tr th {\n",
              "        vertical-align: top;\n",
              "    }\n",
              "\n",
              "    .dataframe thead th {\n",
              "        text-align: right;\n",
              "    }\n",
              "</style>\n",
              "<table border=\"1\" class=\"dataframe\">\n",
              "  <thead>\n",
              "    <tr style=\"text-align: right;\">\n",
              "      <th></th>\n",
              "      <th>match_id</th>\n",
              "      <th>team</th>\n",
              "      <th>player</th>\n",
              "      <th>x</th>\n",
              "      <th>y</th>\n",
              "      <th>type</th>\n",
              "      <th>end_x</th>\n",
              "      <th>end_y</th>\n",
              "      <th>technique</th>\n",
              "      <th>aerial_won</th>\n",
              "      <th>follows_dribble</th>\n",
              "      <th>first_time</th>\n",
              "      <th>open_goal</th>\n",
              "      <th>deflected</th>\n",
              "      <th>xg</th>\n",
              "      <th>outcome</th>\n",
              "    </tr>\n",
              "  </thead>\n",
              "  <tbody>\n",
              "    <tr>\n",
              "      <th>0</th>\n",
              "      <td>7578</td>\n",
              "      <td>Uruguay</td>\n",
              "      <td>Edinson Roberto Cavani Gómez</td>\n",
              "      <td>97.0</td>\n",
              "      <td>32.0</td>\n",
              "      <td>Open Play</td>\n",
              "      <td>119.0</td>\n",
              "      <td>37.0</td>\n",
              "      <td>Normal</td>\n",
              "      <td>False</td>\n",
              "      <td>False</td>\n",
              "      <td>False</td>\n",
              "      <td>False</td>\n",
              "      <td>False</td>\n",
              "      <td>0.037902</td>\n",
              "      <td>Saved</td>\n",
              "    </tr>\n",
              "    <tr>\n",
              "      <th>1</th>\n",
              "      <td>7578</td>\n",
              "      <td>Egypt</td>\n",
              "      <td>Mahmoud Ibrahim Hassan</td>\n",
              "      <td>108.0</td>\n",
              "      <td>51.0</td>\n",
              "      <td>Open Play</td>\n",
              "      <td>118.0</td>\n",
              "      <td>43.8</td>\n",
              "      <td>Half Volley</td>\n",
              "      <td>False</td>\n",
              "      <td>False</td>\n",
              "      <td>False</td>\n",
              "      <td>False</td>\n",
              "      <td>False</td>\n",
              "      <td>0.044519</td>\n",
              "      <td>Saved</td>\n",
              "    </tr>\n",
              "    <tr>\n",
              "      <th>2</th>\n",
              "      <td>7578</td>\n",
              "      <td>Uruguay</td>\n",
              "      <td>Luis Alberto Suárez Díaz</td>\n",
              "      <td>109.0</td>\n",
              "      <td>55.0</td>\n",
              "      <td>Open Play</td>\n",
              "      <td>120.0</td>\n",
              "      <td>46.0</td>\n",
              "      <td>Normal</td>\n",
              "      <td>False</td>\n",
              "      <td>False</td>\n",
              "      <td>True</td>\n",
              "      <td>False</td>\n",
              "      <td>False</td>\n",
              "      <td>0.040015</td>\n",
              "      <td>Off T</td>\n",
              "    </tr>\n",
              "    <tr>\n",
              "      <th>3</th>\n",
              "      <td>7578</td>\n",
              "      <td>Uruguay</td>\n",
              "      <td>Edinson Roberto Cavani Gómez</td>\n",
              "      <td>102.0</td>\n",
              "      <td>23.0</td>\n",
              "      <td>Open Play</td>\n",
              "      <td>111.0</td>\n",
              "      <td>33.0</td>\n",
              "      <td>Normal</td>\n",
              "      <td>False</td>\n",
              "      <td>False</td>\n",
              "      <td>False</td>\n",
              "      <td>False</td>\n",
              "      <td>False</td>\n",
              "      <td>0.026998</td>\n",
              "      <td>Blocked</td>\n",
              "    </tr>\n",
              "    <tr>\n",
              "      <th>4</th>\n",
              "      <td>7578</td>\n",
              "      <td>Uruguay</td>\n",
              "      <td>José Martín Cáceres Silva</td>\n",
              "      <td>114.0</td>\n",
              "      <td>48.0</td>\n",
              "      <td>Open Play</td>\n",
              "      <td>114.0</td>\n",
              "      <td>41.0</td>\n",
              "      <td>Normal</td>\n",
              "      <td>False</td>\n",
              "      <td>False</td>\n",
              "      <td>False</td>\n",
              "      <td>False</td>\n",
              "      <td>False</td>\n",
              "      <td>0.040895</td>\n",
              "      <td>Wayward</td>\n",
              "    </tr>\n",
              "    <tr>\n",
              "      <th>5</th>\n",
              "      <td>7578</td>\n",
              "      <td>Uruguay</td>\n",
              "      <td>Luis Alberto Suárez Díaz</td>\n",
              "      <td>116.0</td>\n",
              "      <td>35.0</td>\n",
              "      <td>Open Play</td>\n",
              "      <td>120.0</td>\n",
              "      <td>35.4</td>\n",
              "      <td>Normal</td>\n",
              "      <td>False</td>\n",
              "      <td>False</td>\n",
              "      <td>True</td>\n",
              "      <td>False</td>\n",
              "      <td>False</td>\n",
              "      <td>0.272925</td>\n",
              "      <td>Off T</td>\n",
              "    </tr>\n",
              "    <tr>\n",
              "      <th>6</th>\n",
              "      <td>7578</td>\n",
              "      <td>Egypt</td>\n",
              "      <td>Marwan Mohsen</td>\n",
              "      <td>100.0</td>\n",
              "      <td>51.0</td>\n",
              "      <td>Open Play</td>\n",
              "      <td>118.0</td>\n",
              "      <td>38.5</td>\n",
              "      <td>Normal</td>\n",
              "      <td>False</td>\n",
              "      <td>False</td>\n",
              "      <td>False</td>\n",
              "      <td>False</td>\n",
              "      <td>False</td>\n",
              "      <td>0.027069</td>\n",
              "      <td>Saved</td>\n",
              "    </tr>\n",
              "    <tr>\n",
              "      <th>7</th>\n",
              "      <td>7578</td>\n",
              "      <td>Uruguay</td>\n",
              "      <td>Matías Vecino Falero</td>\n",
              "      <td>83.0</td>\n",
              "      <td>53.0</td>\n",
              "      <td>Open Play</td>\n",
              "      <td>120.0</td>\n",
              "      <td>34.8</td>\n",
              "      <td>Normal</td>\n",
              "      <td>False</td>\n",
              "      <td>False</td>\n",
              "      <td>False</td>\n",
              "      <td>False</td>\n",
              "      <td>False</td>\n",
              "      <td>0.011727</td>\n",
              "      <td>Off T</td>\n",
              "    </tr>\n",
              "    <tr>\n",
              "      <th>8</th>\n",
              "      <td>7578</td>\n",
              "      <td>Uruguay</td>\n",
              "      <td>Luis Alberto Suárez Díaz</td>\n",
              "      <td>88.0</td>\n",
              "      <td>38.0</td>\n",
              "      <td>Free Kick</td>\n",
              "      <td>97.0</td>\n",
              "      <td>37.0</td>\n",
              "      <td>Normal</td>\n",
              "      <td>False</td>\n",
              "      <td>False</td>\n",
              "      <td>False</td>\n",
              "      <td>False</td>\n",
              "      <td>False</td>\n",
              "      <td>0.037000</td>\n",
              "      <td>Blocked</td>\n",
              "    </tr>\n",
              "    <tr>\n",
              "      <th>9</th>\n",
              "      <td>7578</td>\n",
              "      <td>Egypt</td>\n",
              "      <td>Abdalla Mahmoud El Said Bekhit</td>\n",
              "      <td>105.0</td>\n",
              "      <td>48.0</td>\n",
              "      <td>Open Play</td>\n",
              "      <td>107.0</td>\n",
              "      <td>46.0</td>\n",
              "      <td>Overhead Kick</td>\n",
              "      <td>False</td>\n",
              "      <td>False</td>\n",
              "      <td>False</td>\n",
              "      <td>False</td>\n",
              "      <td>False</td>\n",
              "      <td>0.053922</td>\n",
              "      <td>Wayward</td>\n",
              "    </tr>\n",
              "  </tbody>\n",
              "</table>\n",
              "</div>"
            ],
            "text/plain": [
              "   match_id     team                          player      x     y       type  \\\n",
              "0      7578  Uruguay    Edinson Roberto Cavani Gómez   97.0  32.0  Open Play   \n",
              "1      7578    Egypt          Mahmoud Ibrahim Hassan  108.0  51.0  Open Play   \n",
              "2      7578  Uruguay        Luis Alberto Suárez Díaz  109.0  55.0  Open Play   \n",
              "3      7578  Uruguay    Edinson Roberto Cavani Gómez  102.0  23.0  Open Play   \n",
              "4      7578  Uruguay       José Martín Cáceres Silva  114.0  48.0  Open Play   \n",
              "5      7578  Uruguay        Luis Alberto Suárez Díaz  116.0  35.0  Open Play   \n",
              "6      7578    Egypt                   Marwan Mohsen  100.0  51.0  Open Play   \n",
              "7      7578  Uruguay            Matías Vecino Falero   83.0  53.0  Open Play   \n",
              "8      7578  Uruguay        Luis Alberto Suárez Díaz   88.0  38.0  Free Kick   \n",
              "9      7578    Egypt  Abdalla Mahmoud El Said Bekhit  105.0  48.0  Open Play   \n",
              "\n",
              "   end_x  end_y      technique  aerial_won  follows_dribble  first_time  \\\n",
              "0  119.0   37.0         Normal       False            False       False   \n",
              "1  118.0   43.8    Half Volley       False            False       False   \n",
              "2  120.0   46.0         Normal       False            False        True   \n",
              "3  111.0   33.0         Normal       False            False       False   \n",
              "4  114.0   41.0         Normal       False            False       False   \n",
              "5  120.0   35.4         Normal       False            False        True   \n",
              "6  118.0   38.5         Normal       False            False       False   \n",
              "7  120.0   34.8         Normal       False            False       False   \n",
              "8   97.0   37.0         Normal       False            False       False   \n",
              "9  107.0   46.0  Overhead Kick       False            False       False   \n",
              "\n",
              "   open_goal  deflected        xg  outcome  \n",
              "0      False      False  0.037902    Saved  \n",
              "1      False      False  0.044519    Saved  \n",
              "2      False      False  0.040015    Off T  \n",
              "3      False      False  0.026998  Blocked  \n",
              "4      False      False  0.040895  Wayward  \n",
              "5      False      False  0.272925    Off T  \n",
              "6      False      False  0.027069    Saved  \n",
              "7      False      False  0.011727    Off T  \n",
              "8      False      False  0.037000  Blocked  \n",
              "9      False      False  0.053922  Wayward  "
            ]
          },
          "execution_count": 39,
          "metadata": {},
          "output_type": "execute_result"
        }
      ],
      "source": [
        "df.head(10)"
      ]
    },
    {
      "cell_type": "markdown",
      "metadata": {
        "id": "Y_jzb_u8fHDK"
      },
      "source": [
        "The `.head(10)` method on a DataFrame object shows you the first 10 records in the DataFrame.\n",
        "\n",
        "There are roughly `1700` shots in this DataFrame, which represent every shot attempted at the 2018 Men's World Cup."
      ]
    },
    {
      "cell_type": "markdown",
      "metadata": {
        "id": "-A5XHr5NfHDK"
      },
      "source": [
        "---\n",
        "\n",
        "Devin Pleuler 2020"
      ]
    }
  ],
  "metadata": {
    "colab": {
      "name": "data_extraction_and_transformation.ipynb",
      "provenance": []
    },
    "interpreter": {
      "hash": "aee8b7b246df8f9039afb4144a1f6fd8d2ca17a180786b69acc140d282b71a49"
    },
    "kernelspec": {
      "display_name": "Python 3.9.7 64-bit",
      "name": "python3"
    },
    "language_info": {
      "codemirror_mode": {
        "name": "ipython",
        "version": 3
      },
      "file_extension": ".py",
      "mimetype": "text/x-python",
      "name": "python",
      "nbconvert_exporter": "python",
      "pygments_lexer": "ipython3",
      "version": "3.9.7"
    }
  },
  "nbformat": 4,
  "nbformat_minor": 0
}
